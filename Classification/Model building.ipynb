{
 "cells": [
  {
   "cell_type": "code",
   "execution_count": 305,
   "id": "f63793a1-f892-4b8c-b240-074f691a1398",
   "metadata": {
    "tags": []
   },
   "outputs": [],
   "source": [
    "import numpy as np\n",
    "import pandas as pd\n",
    "import matplotlib.pyplot as plt\n",
    "import seaborn as sns\n",
    "\n",
    "from sklearn.ensemble import RandomForestClassifier\n",
    "from sklearn.metrics import classification_report\n",
    "from sklearn.model_selection import train_test_split\n",
    "\n",
    "from sklearn.model_selection import RandomizedSearchCV\n",
    "from sklearn.model_selection import GridSearchCV\n",
    "from sklearn import metrics\n",
    "\n",
    "RANDOM_SEED=2"
   ]
  },
  {
   "cell_type": "markdown",
   "id": "2999f879-45e6-4276-8f50-3c4e5547a9ed",
   "metadata": {},
   "source": [
    "# Read data"
   ]
  },
  {
   "cell_type": "code",
   "execution_count": 2,
   "id": "7d43699d-24fd-4ae7-8706-65e9a735a645",
   "metadata": {
    "tags": []
   },
   "outputs": [
    {
     "data": {
      "text/html": [
       "<div>\n",
       "<style scoped>\n",
       "    .dataframe tbody tr th:only-of-type {\n",
       "        vertical-align: middle;\n",
       "    }\n",
       "\n",
       "    .dataframe tbody tr th {\n",
       "        vertical-align: top;\n",
       "    }\n",
       "\n",
       "    .dataframe thead th {\n",
       "        text-align: right;\n",
       "    }\n",
       "</style>\n",
       "<table border=\"1\" class=\"dataframe\">\n",
       "  <thead>\n",
       "    <tr style=\"text-align: right;\">\n",
       "      <th></th>\n",
       "      <th>age</th>\n",
       "      <th>credit_sum</th>\n",
       "      <th>credit_month</th>\n",
       "      <th>tariff_id</th>\n",
       "      <th>score_shk</th>\n",
       "      <th>living_region</th>\n",
       "      <th>monthly_income</th>\n",
       "      <th>credit_count</th>\n",
       "      <th>overdue_credit_count</th>\n",
       "      <th>open_account_flg</th>\n",
       "      <th>gender_F</th>\n",
       "      <th>gender_M</th>\n",
       "    </tr>\n",
       "  </thead>\n",
       "  <tbody>\n",
       "    <tr>\n",
       "      <th>0</th>\n",
       "      <td>48</td>\n",
       "      <td>59998.00</td>\n",
       "      <td>10</td>\n",
       "      <td>1.60</td>\n",
       "      <td>0.770249</td>\n",
       "      <td>32300</td>\n",
       "      <td>30000.0</td>\n",
       "      <td>1.0</td>\n",
       "      <td>1.0</td>\n",
       "      <td>0</td>\n",
       "      <td>0.0</td>\n",
       "      <td>1.0</td>\n",
       "    </tr>\n",
       "    <tr>\n",
       "      <th>1</th>\n",
       "      <td>28</td>\n",
       "      <td>10889.00</td>\n",
       "      <td>6</td>\n",
       "      <td>1.10</td>\n",
       "      <td>0.248514</td>\n",
       "      <td>37700</td>\n",
       "      <td>43000.0</td>\n",
       "      <td>2.0</td>\n",
       "      <td>0.0</td>\n",
       "      <td>0</td>\n",
       "      <td>1.0</td>\n",
       "      <td>0.0</td>\n",
       "    </tr>\n",
       "    <tr>\n",
       "      <th>2</th>\n",
       "      <td>32</td>\n",
       "      <td>10728.00</td>\n",
       "      <td>12</td>\n",
       "      <td>1.10</td>\n",
       "      <td>0.459589</td>\n",
       "      <td>46400</td>\n",
       "      <td>23000.0</td>\n",
       "      <td>5.0</td>\n",
       "      <td>0.0</td>\n",
       "      <td>0</td>\n",
       "      <td>0.0</td>\n",
       "      <td>1.0</td>\n",
       "    </tr>\n",
       "    <tr>\n",
       "      <th>3</th>\n",
       "      <td>27</td>\n",
       "      <td>12009.09</td>\n",
       "      <td>12</td>\n",
       "      <td>1.10</td>\n",
       "      <td>0.362536</td>\n",
       "      <td>33400</td>\n",
       "      <td>17000.0</td>\n",
       "      <td>2.0</td>\n",
       "      <td>0.0</td>\n",
       "      <td>0</td>\n",
       "      <td>1.0</td>\n",
       "      <td>0.0</td>\n",
       "    </tr>\n",
       "    <tr>\n",
       "      <th>4</th>\n",
       "      <td>45</td>\n",
       "      <td>16908.89</td>\n",
       "      <td>10</td>\n",
       "      <td>1.10</td>\n",
       "      <td>0.421385</td>\n",
       "      <td>57400</td>\n",
       "      <td>25000.0</td>\n",
       "      <td>1.0</td>\n",
       "      <td>0.0</td>\n",
       "      <td>0</td>\n",
       "      <td>0.0</td>\n",
       "      <td>1.0</td>\n",
       "    </tr>\n",
       "    <tr>\n",
       "      <th>...</th>\n",
       "      <td>...</td>\n",
       "      <td>...</td>\n",
       "      <td>...</td>\n",
       "      <td>...</td>\n",
       "      <td>...</td>\n",
       "      <td>...</td>\n",
       "      <td>...</td>\n",
       "      <td>...</td>\n",
       "      <td>...</td>\n",
       "      <td>...</td>\n",
       "      <td>...</td>\n",
       "      <td>...</td>\n",
       "    </tr>\n",
       "    <tr>\n",
       "      <th>161331</th>\n",
       "      <td>27</td>\n",
       "      <td>64867.00</td>\n",
       "      <td>12</td>\n",
       "      <td>1.10</td>\n",
       "      <td>0.535257</td>\n",
       "      <td>31600</td>\n",
       "      <td>40000.0</td>\n",
       "      <td>6.0</td>\n",
       "      <td>0.0</td>\n",
       "      <td>0</td>\n",
       "      <td>1.0</td>\n",
       "      <td>0.0</td>\n",
       "    </tr>\n",
       "    <tr>\n",
       "      <th>161332</th>\n",
       "      <td>24</td>\n",
       "      <td>17640.00</td>\n",
       "      <td>6</td>\n",
       "      <td>1.60</td>\n",
       "      <td>0.573287</td>\n",
       "      <td>37800</td>\n",
       "      <td>30000.0</td>\n",
       "      <td>1.0</td>\n",
       "      <td>0.0</td>\n",
       "      <td>0</td>\n",
       "      <td>1.0</td>\n",
       "      <td>0.0</td>\n",
       "    </tr>\n",
       "    <tr>\n",
       "      <th>161333</th>\n",
       "      <td>31</td>\n",
       "      <td>27556.47</td>\n",
       "      <td>10</td>\n",
       "      <td>1.32</td>\n",
       "      <td>0.416098</td>\n",
       "      <td>102500</td>\n",
       "      <td>40000.0</td>\n",
       "      <td>1.0</td>\n",
       "      <td>0.0</td>\n",
       "      <td>0</td>\n",
       "      <td>1.0</td>\n",
       "      <td>0.0</td>\n",
       "    </tr>\n",
       "    <tr>\n",
       "      <th>161334</th>\n",
       "      <td>53</td>\n",
       "      <td>6189.00</td>\n",
       "      <td>12</td>\n",
       "      <td>1.10</td>\n",
       "      <td>0.482595</td>\n",
       "      <td>35800</td>\n",
       "      <td>31000.0</td>\n",
       "      <td>2.0</td>\n",
       "      <td>0.0</td>\n",
       "      <td>0</td>\n",
       "      <td>1.0</td>\n",
       "      <td>0.0</td>\n",
       "    </tr>\n",
       "    <tr>\n",
       "      <th>161335</th>\n",
       "      <td>49</td>\n",
       "      <td>12787.00</td>\n",
       "      <td>10</td>\n",
       "      <td>1.10</td>\n",
       "      <td>0.316087</td>\n",
       "      <td>35000</td>\n",
       "      <td>40000.0</td>\n",
       "      <td>3.0</td>\n",
       "      <td>0.0</td>\n",
       "      <td>0</td>\n",
       "      <td>0.0</td>\n",
       "      <td>1.0</td>\n",
       "    </tr>\n",
       "  </tbody>\n",
       "</table>\n",
       "<p>161336 rows × 12 columns</p>\n",
       "</div>"
      ],
      "text/plain": [
       "        age  credit_sum  credit_month  tariff_id  score_shk  living_region  \\\n",
       "0        48    59998.00            10       1.60   0.770249          32300   \n",
       "1        28    10889.00             6       1.10   0.248514          37700   \n",
       "2        32    10728.00            12       1.10   0.459589          46400   \n",
       "3        27    12009.09            12       1.10   0.362536          33400   \n",
       "4        45    16908.89            10       1.10   0.421385          57400   \n",
       "...     ...         ...           ...        ...        ...            ...   \n",
       "161331   27    64867.00            12       1.10   0.535257          31600   \n",
       "161332   24    17640.00             6       1.60   0.573287          37800   \n",
       "161333   31    27556.47            10       1.32   0.416098         102500   \n",
       "161334   53     6189.00            12       1.10   0.482595          35800   \n",
       "161335   49    12787.00            10       1.10   0.316087          35000   \n",
       "\n",
       "        monthly_income  credit_count  overdue_credit_count  open_account_flg  \\\n",
       "0              30000.0           1.0                   1.0                 0   \n",
       "1              43000.0           2.0                   0.0                 0   \n",
       "2              23000.0           5.0                   0.0                 0   \n",
       "3              17000.0           2.0                   0.0                 0   \n",
       "4              25000.0           1.0                   0.0                 0   \n",
       "...                ...           ...                   ...               ...   \n",
       "161331         40000.0           6.0                   0.0                 0   \n",
       "161332         30000.0           1.0                   0.0                 0   \n",
       "161333         40000.0           1.0                   0.0                 0   \n",
       "161334         31000.0           2.0                   0.0                 0   \n",
       "161335         40000.0           3.0                   0.0                 0   \n",
       "\n",
       "        gender_F  gender_M  \n",
       "0            0.0       1.0  \n",
       "1            1.0       0.0  \n",
       "2            0.0       1.0  \n",
       "3            1.0       0.0  \n",
       "4            0.0       1.0  \n",
       "...          ...       ...  \n",
       "161331       1.0       0.0  \n",
       "161332       1.0       0.0  \n",
       "161333       1.0       0.0  \n",
       "161334       1.0       0.0  \n",
       "161335       0.0       1.0  \n",
       "\n",
       "[161336 rows x 12 columns]"
      ]
     },
     "execution_count": 2,
     "metadata": {},
     "output_type": "execute_result"
    }
   ],
   "source": [
    "test_df=pd.read_csv(r'Data\\Processed\\credit_test.csv', index_col=0, low_memory=False)\n",
    "train_df=pd.read_csv(r'Data\\Processed\\credit_train.csv', index_col=0)\n",
    "train_df"
   ]
  },
  {
   "cell_type": "markdown",
   "id": "3ad69267-25f4-4cfa-a0b8-a2795ea0c50e",
   "metadata": {},
   "source": [
    "# Interpreted method"
   ]
  },
  {
   "cell_type": "code",
   "execution_count": 3,
   "id": "33872def-b666-4c05-b276-66b3941cc661",
   "metadata": {
    "tags": []
   },
   "outputs": [],
   "source": [
    "train_data, test_data = train_test_split(train_df, test_size=0.3, stratify=train_df['open_account_flg'], shuffle=True, random_state=RANDOM_SEED)"
   ]
  },
  {
   "cell_type": "code",
   "execution_count": 4,
   "id": "39f1569c-d346-44e7-8f6e-193104303da8",
   "metadata": {
    "tags": []
   },
   "outputs": [],
   "source": [
    "x_train_data=np.array(train_data[train_data.columns[train_data.columns!='open_account_flg']])\n",
    "y_train_data=np.array(train_data[train_data.columns[train_data.columns=='open_account_flg']])\n",
    "\n",
    "x_test_data=np.array(test_data[test_data.columns[test_data.columns!='open_account_flg']])\n",
    "y_test_data=np.array(test_data[test_data.columns[test_data.columns=='open_account_flg']])"
   ]
  },
  {
   "cell_type": "markdown",
   "id": "25b8572c-4266-4026-b59f-53e8de46712c",
   "metadata": {},
   "source": [
    "## Random Forest"
   ]
  },
  {
   "cell_type": "markdown",
   "id": "fb5c5866-67db-46ee-a7e9-c189c1a9b015",
   "metadata": {
    "tags": []
   },
   "source": [
    "### Finding hyperparameters"
   ]
  },
  {
   "cell_type": "markdown",
   "id": "f07d34cf-eb4c-4154-94e9-9f15a6d7d7e7",
   "metadata": {},
   "source": [
    "####  Randomized Search CV method"
   ]
  },
  {
   "cell_type": "code",
   "execution_count": 5,
   "id": "a31f4a5d-9a8c-40e4-ac52-10cf113d14d7",
   "metadata": {
    "tags": []
   },
   "outputs": [
    {
     "name": "stdout",
     "output_type": "stream",
     "text": [
      "Fitting 3 folds for each of 10 candidates, totalling 30 fits\n",
      "[CV 1/3] END bootstrap=True, max_depth=12, max_features=sqrt, min_samples_leaf=39, min_samples_split=12, n_estimators=100;, score=0.835 total time=   8.8s\n",
      "[CV 2/3] END bootstrap=True, max_depth=12, max_features=sqrt, min_samples_leaf=39, min_samples_split=12, n_estimators=100;, score=0.835 total time=   8.9s\n",
      "[CV 3/3] END bootstrap=True, max_depth=12, max_features=sqrt, min_samples_leaf=39, min_samples_split=12, n_estimators=100;, score=0.835 total time=   8.7s\n",
      "[CV 1/3] END bootstrap=False, max_depth=3, max_features=sqrt, min_samples_leaf=18, min_samples_split=23, n_estimators=400;, score=0.835 total time=  12.1s\n",
      "[CV 2/3] END bootstrap=False, max_depth=3, max_features=sqrt, min_samples_leaf=18, min_samples_split=23, n_estimators=400;, score=0.835 total time=  13.0s\n",
      "[CV 3/3] END bootstrap=False, max_depth=3, max_features=sqrt, min_samples_leaf=18, min_samples_split=23, n_estimators=400;, score=0.835 total time=  11.9s\n",
      "[CV 1/3] END bootstrap=True, max_depth=4, max_features=log2, min_samples_leaf=34, min_samples_split=18, n_estimators=800;, score=0.835 total time=  27.0s\n",
      "[CV 2/3] END bootstrap=True, max_depth=4, max_features=log2, min_samples_leaf=34, min_samples_split=18, n_estimators=800;, score=0.835 total time=  27.0s\n",
      "[CV 3/3] END bootstrap=True, max_depth=4, max_features=log2, min_samples_leaf=34, min_samples_split=18, n_estimators=800;, score=0.835 total time=  26.8s\n",
      "[CV 1/3] END bootstrap=False, max_depth=1, max_features=log2, min_samples_leaf=12, min_samples_split=44, n_estimators=100;, score=0.835 total time=   1.1s\n",
      "[CV 2/3] END bootstrap=False, max_depth=1, max_features=log2, min_samples_leaf=12, min_samples_split=44, n_estimators=100;, score=0.835 total time=   1.1s\n",
      "[CV 3/3] END bootstrap=False, max_depth=1, max_features=log2, min_samples_leaf=12, min_samples_split=44, n_estimators=100;, score=0.835 total time=   1.1s\n",
      "[CV 1/3] END bootstrap=False, max_depth=8, max_features=log2, min_samples_leaf=28, min_samples_split=34, n_estimators=700;, score=0.835 total time=  52.8s\n",
      "[CV 2/3] END bootstrap=False, max_depth=8, max_features=log2, min_samples_leaf=28, min_samples_split=34, n_estimators=700;, score=0.835 total time=  53.2s\n",
      "[CV 3/3] END bootstrap=False, max_depth=8, max_features=log2, min_samples_leaf=28, min_samples_split=34, n_estimators=700;, score=0.835 total time=  52.9s\n",
      "[CV 1/3] END bootstrap=False, max_depth=1, max_features=sqrt, min_samples_leaf=2, min_samples_split=7, n_estimators=1000;, score=0.835 total time=  16.1s\n",
      "[CV 2/3] END bootstrap=False, max_depth=1, max_features=sqrt, min_samples_leaf=2, min_samples_split=7, n_estimators=1000;, score=0.835 total time=  17.6s\n",
      "[CV 3/3] END bootstrap=False, max_depth=1, max_features=sqrt, min_samples_leaf=2, min_samples_split=7, n_estimators=1000;, score=0.835 total time=  13.5s\n",
      "[CV 1/3] END bootstrap=True, max_depth=10, max_features=log2, min_samples_leaf=44, min_samples_split=50, n_estimators=900;, score=0.835 total time= 1.1min\n",
      "[CV 2/3] END bootstrap=True, max_depth=10, max_features=log2, min_samples_leaf=44, min_samples_split=50, n_estimators=900;, score=0.835 total time= 1.1min\n",
      "[CV 3/3] END bootstrap=True, max_depth=10, max_features=log2, min_samples_leaf=44, min_samples_split=50, n_estimators=900;, score=0.835 total time= 1.1min\n",
      "[CV 1/3] END bootstrap=False, max_depth=2, max_features=sqrt, min_samples_leaf=44, min_samples_split=34, n_estimators=800;, score=0.835 total time=  16.9s\n",
      "[CV 2/3] END bootstrap=False, max_depth=2, max_features=sqrt, min_samples_leaf=44, min_samples_split=34, n_estimators=800;, score=0.835 total time=  17.0s\n",
      "[CV 3/3] END bootstrap=False, max_depth=2, max_features=sqrt, min_samples_leaf=44, min_samples_split=34, n_estimators=800;, score=0.835 total time=  17.0s\n",
      "[CV 1/3] END bootstrap=True, max_depth=8, max_features=log2, min_samples_leaf=34, min_samples_split=50, n_estimators=700;, score=0.835 total time=  44.2s\n",
      "[CV 2/3] END bootstrap=True, max_depth=8, max_features=log2, min_samples_leaf=34, min_samples_split=50, n_estimators=700;, score=0.835 total time=  44.3s\n",
      "[CV 3/3] END bootstrap=True, max_depth=8, max_features=log2, min_samples_leaf=34, min_samples_split=50, n_estimators=700;, score=0.835 total time=  44.2s\n",
      "[CV 1/3] END bootstrap=False, max_depth=8, max_features=log2, min_samples_leaf=12, min_samples_split=50, n_estimators=600;, score=0.835 total time=  45.8s\n",
      "[CV 2/3] END bootstrap=False, max_depth=8, max_features=log2, min_samples_leaf=12, min_samples_split=50, n_estimators=600;, score=0.835 total time=  46.4s\n",
      "[CV 3/3] END bootstrap=False, max_depth=8, max_features=log2, min_samples_leaf=12, min_samples_split=50, n_estimators=600;, score=0.835 total time=  46.2s\n"
     ]
    },
    {
     "data": {
      "text/plain": [
       "{'n_estimators': 600,\n",
       " 'min_samples_split': 50,\n",
       " 'min_samples_leaf': 12,\n",
       " 'max_features': 'log2',\n",
       " 'max_depth': 8,\n",
       " 'bootstrap': False}"
      ]
     },
     "execution_count": 5,
     "metadata": {},
     "output_type": "execute_result"
    }
   ],
   "source": [
    "rfc_model=RandomForestClassifier(random_state=RANDOM_SEED)\n",
    "\n",
    "n_estimators = [int(x) for x in np.linspace(start = 100, stop = 1000, num = 10)]\n",
    "max_features = ['log2', 'sqrt']\n",
    "max_depth = [int(x) for x in np.linspace(start = 1, stop = 15, num = 15)]\n",
    "min_samples_split = [int(x) for x in np.linspace(start = 2, stop = 50, num = 10)]\n",
    "min_samples_leaf = [int(x) for x in np.linspace(start = 2, stop = 50, num = 10)]\n",
    "bootstrap = [True, False]\n",
    "\n",
    "param_dist = {'n_estimators': n_estimators,\n",
    "               'max_features': max_features,\n",
    "               'max_depth': max_depth,\n",
    "               'min_samples_split': min_samples_split,\n",
    "               'min_samples_leaf': min_samples_leaf,\n",
    "               'bootstrap': bootstrap}\n",
    "\n",
    "rs = RandomizedSearchCV(rfc_model, param_dist, n_iter = 10, cv = 3, verbose = 3, random_state=RANDOM_SEED)\n",
    "rs.fit(x_train_data, y_train_data.ravel())\n",
    "rs.best_params_"
   ]
  },
  {
   "cell_type": "code",
   "execution_count": 6,
   "id": "935d817f-9691-4f4f-9ad0-b4aad23446f8",
   "metadata": {
    "tags": []
   },
   "outputs": [
    {
     "data": {
      "text/html": [
       "<div>\n",
       "<style scoped>\n",
       "    .dataframe tbody tr th:only-of-type {\n",
       "        vertical-align: middle;\n",
       "    }\n",
       "\n",
       "    .dataframe tbody tr th {\n",
       "        vertical-align: top;\n",
       "    }\n",
       "\n",
       "    .dataframe thead th {\n",
       "        text-align: right;\n",
       "    }\n",
       "</style>\n",
       "<table border=\"1\" class=\"dataframe\">\n",
       "  <thead>\n",
       "    <tr style=\"text-align: right;\">\n",
       "      <th></th>\n",
       "      <th>param_n_estimators</th>\n",
       "      <th>param_min_samples_split</th>\n",
       "      <th>param_min_samples_leaf</th>\n",
       "      <th>param_max_features</th>\n",
       "      <th>param_max_depth</th>\n",
       "      <th>param_bootstrap</th>\n",
       "      <th>mean_test_score</th>\n",
       "      <th>rank_test_score</th>\n",
       "    </tr>\n",
       "  </thead>\n",
       "  <tbody>\n",
       "    <tr>\n",
       "      <th>0</th>\n",
       "      <td>600</td>\n",
       "      <td>50</td>\n",
       "      <td>12</td>\n",
       "      <td>log2</td>\n",
       "      <td>8</td>\n",
       "      <td>False</td>\n",
       "      <td>0.835312</td>\n",
       "      <td>1</td>\n",
       "    </tr>\n",
       "    <tr>\n",
       "      <th>1</th>\n",
       "      <td>100</td>\n",
       "      <td>12</td>\n",
       "      <td>39</td>\n",
       "      <td>sqrt</td>\n",
       "      <td>12</td>\n",
       "      <td>True</td>\n",
       "      <td>0.835224</td>\n",
       "      <td>2</td>\n",
       "    </tr>\n",
       "    <tr>\n",
       "      <th>2</th>\n",
       "      <td>700</td>\n",
       "      <td>34</td>\n",
       "      <td>28</td>\n",
       "      <td>log2</td>\n",
       "      <td>8</td>\n",
       "      <td>False</td>\n",
       "      <td>0.835215</td>\n",
       "      <td>3</td>\n",
       "    </tr>\n",
       "    <tr>\n",
       "      <th>3</th>\n",
       "      <td>700</td>\n",
       "      <td>50</td>\n",
       "      <td>34</td>\n",
       "      <td>log2</td>\n",
       "      <td>8</td>\n",
       "      <td>True</td>\n",
       "      <td>0.835180</td>\n",
       "      <td>4</td>\n",
       "    </tr>\n",
       "    <tr>\n",
       "      <th>4</th>\n",
       "      <td>900</td>\n",
       "      <td>50</td>\n",
       "      <td>44</td>\n",
       "      <td>log2</td>\n",
       "      <td>10</td>\n",
       "      <td>True</td>\n",
       "      <td>0.835171</td>\n",
       "      <td>5</td>\n",
       "    </tr>\n",
       "    <tr>\n",
       "      <th>5</th>\n",
       "      <td>400</td>\n",
       "      <td>23</td>\n",
       "      <td>18</td>\n",
       "      <td>sqrt</td>\n",
       "      <td>3</td>\n",
       "      <td>False</td>\n",
       "      <td>0.835100</td>\n",
       "      <td>6</td>\n",
       "    </tr>\n",
       "    <tr>\n",
       "      <th>6</th>\n",
       "      <td>800</td>\n",
       "      <td>18</td>\n",
       "      <td>34</td>\n",
       "      <td>log2</td>\n",
       "      <td>4</td>\n",
       "      <td>True</td>\n",
       "      <td>0.835100</td>\n",
       "      <td>6</td>\n",
       "    </tr>\n",
       "    <tr>\n",
       "      <th>7</th>\n",
       "      <td>100</td>\n",
       "      <td>44</td>\n",
       "      <td>12</td>\n",
       "      <td>log2</td>\n",
       "      <td>1</td>\n",
       "      <td>False</td>\n",
       "      <td>0.835100</td>\n",
       "      <td>6</td>\n",
       "    </tr>\n",
       "    <tr>\n",
       "      <th>8</th>\n",
       "      <td>1000</td>\n",
       "      <td>7</td>\n",
       "      <td>2</td>\n",
       "      <td>sqrt</td>\n",
       "      <td>1</td>\n",
       "      <td>False</td>\n",
       "      <td>0.835100</td>\n",
       "      <td>6</td>\n",
       "    </tr>\n",
       "    <tr>\n",
       "      <th>9</th>\n",
       "      <td>800</td>\n",
       "      <td>34</td>\n",
       "      <td>44</td>\n",
       "      <td>sqrt</td>\n",
       "      <td>2</td>\n",
       "      <td>False</td>\n",
       "      <td>0.835100</td>\n",
       "      <td>6</td>\n",
       "    </tr>\n",
       "  </tbody>\n",
       "</table>\n",
       "</div>"
      ],
      "text/plain": [
       "  param_n_estimators param_min_samples_split param_min_samples_leaf  \\\n",
       "0                600                      50                     12   \n",
       "1                100                      12                     39   \n",
       "2                700                      34                     28   \n",
       "3                700                      50                     34   \n",
       "4                900                      50                     44   \n",
       "5                400                      23                     18   \n",
       "6                800                      18                     34   \n",
       "7                100                      44                     12   \n",
       "8               1000                       7                      2   \n",
       "9                800                      34                     44   \n",
       "\n",
       "  param_max_features param_max_depth param_bootstrap  mean_test_score  \\\n",
       "0               log2               8           False         0.835312   \n",
       "1               sqrt              12            True         0.835224   \n",
       "2               log2               8           False         0.835215   \n",
       "3               log2               8            True         0.835180   \n",
       "4               log2              10            True         0.835171   \n",
       "5               sqrt               3           False         0.835100   \n",
       "6               log2               4            True         0.835100   \n",
       "7               log2               1           False         0.835100   \n",
       "8               sqrt               1           False         0.835100   \n",
       "9               sqrt               2           False         0.835100   \n",
       "\n",
       "   rank_test_score  \n",
       "0                1  \n",
       "1                2  \n",
       "2                3  \n",
       "3                4  \n",
       "4                5  \n",
       "5                6  \n",
       "6                6  \n",
       "7                6  \n",
       "8                6  \n",
       "9                6  "
      ]
     },
     "execution_count": 6,
     "metadata": {},
     "output_type": "execute_result"
    }
   ],
   "source": [
    "drop_list=['mean_fit_time', 'std_fit_time', 'mean_score_time','std_score_time', 'params', 'split0_test_score', 'split1_test_score', 'split2_test_score', 'std_test_score']\n",
    "rs_df = pd.DataFrame(rs.cv_results_).sort_values('rank_test_score').reset_index(drop=True)\n",
    "rs_df = rs_df.drop(drop_list, axis=1)\n",
    "rs_df.head(10)"
   ]
  },
  {
   "cell_type": "code",
   "execution_count": 17,
   "id": "b7b06341-f912-42f4-b780-19b7ae7c1768",
   "metadata": {
    "tags": []
   },
   "outputs": [
    {
     "data": {
      "image/png": "[encoded data removed]",
      "text/plain": [
       "<Figure size 1500x1500 with 6 Axes>"
      ]
     },
     "metadata": {},
     "output_type": "display_data"
    }
   ],
   "source": [
    "params_list=rs_df.columns\n",
    "\n",
    "fig, axes = plt.subplots(ncols=3, nrows=2)\n",
    "sns.set(style=\"whitegrid\", color_codes=True, font_scale = 1)\n",
    "fig.set_size_inches(15,15)\n",
    "\n",
    "for param_name, axs in zip(params_list, axes.flatten()):\n",
    "    sns.barplot(x=param_name, y='mean_test_score', data=rs_df, ax=axs)\n",
    "    axs.set_title(label = param_name, size=10, weight='bold')\n",
    "plt.show()"
   ]
  },
  {
   "cell_type": "markdown",
   "id": "d30be136-e7fc-4114-b95c-9f4a5026fbbf",
   "metadata": {},
   "source": [
    "Гиперпараметры близки друг к другу по показателю эффективности. Можно использовать метод более детального поиска квазиоптимальных гиперпараметов."
   ]
  },
  {
   "cell_type": "markdown",
   "id": "3a1fdb6a-6cc1-4280-84d2-be8fe1fc093f",
   "metadata": {
    "tags": []
   },
   "source": [
    "####  Randomized Search CV method"
   ]
  },
  {
   "cell_type": "code",
   "execution_count": null,
   "id": "efba4a09-edfa-4c00-9e84-c1b392699866",
   "metadata": {
    "tags": []
   },
   "outputs": [],
   "source": [
    "rfc_model=RandomForestClassifier(random_state=RANDOM_SEED)\n",
    "\n",
    "n_estimators = [100,500,1000]\n",
    "max_features = ['sqrt']\n",
    "max_depth = [2,4,12]\n",
    "min_samples_split = [2,20,50]\n",
    "min_samples_leaf = [2,20,40]\n",
    "bootstrap = [False]\n",
    "param_grid = {'n_estimators': n_estimators,\n",
    "               'max_features': max_features,\n",
    "               'max_depth': max_depth,\n",
    "               'min_samples_split': min_samples_split,\n",
    "               'min_samples_leaf': min_samples_leaf,\n",
    "               'bootstrap': bootstrap}\n",
    "\n",
    "gs = GridSearchCV(rfc_model, param_grid, cv = 3, verbose = 3)\n",
    "gs.fit(x_train_data, y_train_data.ravel())\n",
    "rfc = gs.best_estimator_\n",
    "gs.best_params_"
   ]
  },
  {
   "cell_type": "markdown",
   "id": "735098fe-9521-42ae-9a61-17ce90639fe5",
   "metadata": {},
   "source": [
    "Использованный метод показывает результаты аналогичные предыдущему, соответственно крайне левых значений гиперпараметров достаточно для обучения модели."
   ]
  },
  {
   "cell_type": "markdown",
   "id": "0bfda966-01dc-4086-a608-a69442ba00a1",
   "metadata": {},
   "source": [
    "### Fitting and evaluate best model"
   ]
  },
  {
   "cell_type": "code",
   "execution_count": 22,
   "id": "4ad28459-ea43-4b08-8987-9190efbebdd4",
   "metadata": {
    "tags": []
   },
   "outputs": [],
   "source": [
    "rfc_model=RandomForestClassifier(max_depth=14, n_estimators=100, max_features='sqrt', random_state=RANDOM_SEED)\n",
    "rfc_model.fit(x_train_data, y_train_data.ravel())\n",
    "y_pred = rfc_model.predict(x_test_data)\n",
    "report = classification_report(y_test_data.ravel(), y_pred, digits=5)"
   ]
  },
  {
   "cell_type": "code",
   "execution_count": 28,
   "id": "ecde594f-f95b-43ba-bb75-317187c539cd",
   "metadata": {
    "tags": []
   },
   "outputs": [
    {
     "name": "stdout",
     "output_type": "stream",
     "text": [
      "              precision    recall  f1-score   support\n",
      "\n",
      "           0    0.83829   0.99589   0.91032     40420\n",
      "           1    0.56545   0.02706   0.05166      7981\n",
      "\n",
      "    accuracy                        0.83614     48401\n",
      "   macro avg    0.70187   0.51148   0.48099     48401\n",
      "weighted avg    0.79330   0.83614   0.76873     48401\n",
      "\n"
     ]
    }
   ],
   "source": [
    "print(report)"
   ]
  },
  {
   "cell_type": "code",
   "execution_count": 26,
   "id": "c6326ade-d628-4ce2-b8ef-88d4d0b4df48",
   "metadata": {
    "tags": []
   },
   "outputs": [
    {
     "data": {
      "text/plain": [
       "Text(0.5, 1.0, 'ROC curve')"
      ]
     },
     "execution_count": 26,
     "metadata": {},
     "output_type": "execute_result"
    },
    {
     "data": {
      "image/png": "[encoded data removed]",
      "text/plain": [
       "<Figure size 640x480 with 1 Axes>"
      ]
     },
     "metadata": {},
     "output_type": "display_data"
    }
   ],
   "source": [
    "y_pred = rfc_model.predict_proba(x_test_data)[:, 1]\n",
    "fpr, tpr, _ = metrics.roc_curve(y_test_data.ravel(), y_pred)\n",
    "auc = round(metrics.roc_auc_score(y_test_data.ravel(), y_pred), 5)\n",
    "\n",
    "plt.plot(fpr, tpr, label=\"RandomForest, AUC=\"+str(auc))\n",
    "plt.title('ROC curve')"
   ]
  },
  {
   "cell_type": "code",
   "execution_count": 27,
   "id": "4768c35d-4b67-4e58-afbe-f1ffe4b27e9c",
   "metadata": {
    "tags": []
   },
   "outputs": [
    {
     "data": {
      "text/plain": [
       "0.74142"
      ]
     },
     "execution_count": 27,
     "metadata": {},
     "output_type": "execute_result"
    }
   ],
   "source": [
    "auc"
   ]
  },
  {
   "cell_type": "markdown",
   "id": "27e0e5fa-75dd-4ad3-b291-1c6d0b5262ee",
   "metadata": {},
   "source": [
    "Площадь под кривой существенно отличается от половинной, что позволяет предположить, что данную модель можно использовать. Для повышения показателей классификации можно использовать методы основанные на алгоритмах бустинга или искусственные нейронные сети со свёрточной основой."
   ]
  }
 ],
 "metadata": {
  "kernelspec": {
   "display_name": "Python 3 (ipykernel)",
   "language": "python",
   "name": "python3"
  },
  "language_info": {
   "codemirror_mode": {
    "name": "ipython",
    "version": 3
   },
   "file_extension": ".py",
   "mimetype": "text/x-python",
   "name": "python",
   "nbconvert_exporter": "python",
   "pygments_lexer": "ipython3",
   "version": "3.10.13"
  }
 },
 "nbformat": 4,
 "nbformat_minor": 5
}
