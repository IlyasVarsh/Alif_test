{
 "cells": [
  {
   "cell_type": "code",
   "execution_count": 1,
   "id": "c7fa0630-f25c-4951-a29d-a828de7055c1",
   "metadata": {
    "tags": []
   },
   "outputs": [],
   "source": [
    "import numpy as np\n",
    "import pandas as pd\n",
    "import matplotlib.pyplot as plt\n",
    "import re"
   ]
  },
  {
   "cell_type": "markdown",
   "id": "4aa7d934-04cb-4e07-b75e-4d65374035b1",
   "metadata": {},
   "source": [
    "# Problem statement"
   ]
  },
  {
   "cell_type": "markdown",
   "id": "b281645a-0066-4050-b069-e8d12e6dd67a",
   "metadata": {},
   "source": [
    "Основная задача: Бинарная классификация\n",
    "* 0 – клиент не открыл кредитный счет в банке\n",
    "* 1 - клиент открыл счет в кредитном банке\n",
    "\n",
    "Необходимо классифицировать клиентов на тех кто не откроет кредитного счета, и тех кто его откроет\n",
    "Данные:\n",
    "+ credit_train.csv - Датасет содержит данные о кредитах на покупку электроники, которые были одобрены \n",
    "\n",
    "1. client_id - идентификационный признак клиента\n",
    "2. gender - пол клиента.\n",
    "3. age - возраст клиента\n",
    "4. marital_status - семейный статус клиента\n",
    "5. job_position - сфера деятельности\n",
    "6. credit_sum - сумма кредита (замените запятые на точки)\n",
    "7. credit_month - срок кредита\n",
    "8. tariff_id - тарифный план обслуживания в банке\n",
    "9. score_shk - внутренняя (замените запятые на точки)\n",
    "10. education - степень образованности\n",
    "11. living_region - регионом проживания\n",
    "12. monthly_income - ежемесяный доход\n",
    "13. credit_count - кол-во кредитов на момент подачи заявки\n",
    "14. open_account_flg - факт открытия кредитного счета в данном банке\n",
    "________________________________________\n"
   ]
  },
  {
   "cell_type": "markdown",
   "id": "34ad67ae-b25b-47e5-b5fe-fec1a6c273ea",
   "metadata": {},
   "source": [
    "# Read data"
   ]
  },
  {
   "cell_type": "code",
   "execution_count": 2,
   "id": "a4115c84-c1ea-41c0-bd83-80d7d0dbf9d4",
   "metadata": {
    "tags": []
   },
   "outputs": [],
   "source": [
    "test_df=pd.read_csv(r'Data\\Raw\\credit_test.csv', sep=';', encoding='windows-1251', decimal=',')\n",
    "train_df=pd.read_csv(r'Data\\Raw\\credit_train.csv', sep=';', encoding='windows-1251', decimal=',')"
   ]
  },
  {
   "cell_type": "markdown",
   "id": "ca5e34f7-98f7-4111-a224-87bf73afd696",
   "metadata": {
    "tags": []
   },
   "source": [
    "# Exploratory Analysis and Data clearing"
   ]
  },
  {
   "cell_type": "code",
   "execution_count": 3,
   "id": "9882297f-edac-46ce-b87c-6bfc0a11b2ca",
   "metadata": {
    "tags": []
   },
   "outputs": [
    {
     "data": {
      "text/html": [
       "<div>\n",
       "<style scoped>\n",
       "    .dataframe tbody tr th:only-of-type {\n",
       "        vertical-align: middle;\n",
       "    }\n",
       "\n",
       "    .dataframe tbody tr th {\n",
       "        vertical-align: top;\n",
       "    }\n",
       "\n",
       "    .dataframe thead th {\n",
       "        text-align: right;\n",
       "    }\n",
       "</style>\n",
       "<table border=\"1\" class=\"dataframe\">\n",
       "  <thead>\n",
       "    <tr style=\"text-align: right;\">\n",
       "      <th></th>\n",
       "      <th>client_id</th>\n",
       "      <th>gender</th>\n",
       "      <th>age</th>\n",
       "      <th>marital_status</th>\n",
       "      <th>job_position</th>\n",
       "      <th>credit_sum</th>\n",
       "      <th>credit_month</th>\n",
       "      <th>tariff_id</th>\n",
       "      <th>score_shk</th>\n",
       "      <th>education</th>\n",
       "      <th>living_region</th>\n",
       "      <th>monthly_income</th>\n",
       "      <th>credit_count</th>\n",
       "      <th>overdue_credit_count</th>\n",
       "      <th>open_account_flg</th>\n",
       "    </tr>\n",
       "  </thead>\n",
       "  <tbody>\n",
       "    <tr>\n",
       "      <th>0</th>\n",
       "      <td>1</td>\n",
       "      <td>M</td>\n",
       "      <td>48</td>\n",
       "      <td>MAR</td>\n",
       "      <td>UMN</td>\n",
       "      <td>59998.00</td>\n",
       "      <td>10</td>\n",
       "      <td>1.6</td>\n",
       "      <td>0.770249</td>\n",
       "      <td>GRD</td>\n",
       "      <td>КРАСНОДАРСКИЙ КРАЙ</td>\n",
       "      <td>30000.0</td>\n",
       "      <td>1.0</td>\n",
       "      <td>1.0</td>\n",
       "      <td>0</td>\n",
       "    </tr>\n",
       "    <tr>\n",
       "      <th>1</th>\n",
       "      <td>2</td>\n",
       "      <td>F</td>\n",
       "      <td>28</td>\n",
       "      <td>MAR</td>\n",
       "      <td>UMN</td>\n",
       "      <td>10889.00</td>\n",
       "      <td>6</td>\n",
       "      <td>1.1</td>\n",
       "      <td>0.248514</td>\n",
       "      <td>GRD</td>\n",
       "      <td>МОСКВА</td>\n",
       "      <td>43000.0</td>\n",
       "      <td>2.0</td>\n",
       "      <td>0.0</td>\n",
       "      <td>0</td>\n",
       "    </tr>\n",
       "    <tr>\n",
       "      <th>2</th>\n",
       "      <td>3</td>\n",
       "      <td>M</td>\n",
       "      <td>32</td>\n",
       "      <td>MAR</td>\n",
       "      <td>SPC</td>\n",
       "      <td>10728.00</td>\n",
       "      <td>12</td>\n",
       "      <td>1.1</td>\n",
       "      <td>0.459589</td>\n",
       "      <td>SCH</td>\n",
       "      <td>ОБЛ САРАТОВСКАЯ</td>\n",
       "      <td>23000.0</td>\n",
       "      <td>5.0</td>\n",
       "      <td>0.0</td>\n",
       "      <td>0</td>\n",
       "    </tr>\n",
       "    <tr>\n",
       "      <th>3</th>\n",
       "      <td>4</td>\n",
       "      <td>F</td>\n",
       "      <td>27</td>\n",
       "      <td>DIV</td>\n",
       "      <td>SPC</td>\n",
       "      <td>12009.09</td>\n",
       "      <td>12</td>\n",
       "      <td>1.1</td>\n",
       "      <td>0.362536</td>\n",
       "      <td>GRD</td>\n",
       "      <td>ОБЛ ВОЛГОГРАДСКАЯ</td>\n",
       "      <td>17000.0</td>\n",
       "      <td>2.0</td>\n",
       "      <td>0.0</td>\n",
       "      <td>0</td>\n",
       "    </tr>\n",
       "    <tr>\n",
       "      <th>4</th>\n",
       "      <td>5</td>\n",
       "      <td>M</td>\n",
       "      <td>45</td>\n",
       "      <td>MAR</td>\n",
       "      <td>SPC</td>\n",
       "      <td>16908.89</td>\n",
       "      <td>10</td>\n",
       "      <td>1.1</td>\n",
       "      <td>0.421385</td>\n",
       "      <td>SCH</td>\n",
       "      <td>ЧЕЛЯБИНСКАЯ ОБЛАСТЬ</td>\n",
       "      <td>25000.0</td>\n",
       "      <td>1.0</td>\n",
       "      <td>0.0</td>\n",
       "      <td>0</td>\n",
       "    </tr>\n",
       "    <tr>\n",
       "      <th>...</th>\n",
       "      <td>...</td>\n",
       "      <td>...</td>\n",
       "      <td>...</td>\n",
       "      <td>...</td>\n",
       "      <td>...</td>\n",
       "      <td>...</td>\n",
       "      <td>...</td>\n",
       "      <td>...</td>\n",
       "      <td>...</td>\n",
       "      <td>...</td>\n",
       "      <td>...</td>\n",
       "      <td>...</td>\n",
       "      <td>...</td>\n",
       "      <td>...</td>\n",
       "      <td>...</td>\n",
       "    </tr>\n",
       "    <tr>\n",
       "      <th>170741</th>\n",
       "      <td>170742</td>\n",
       "      <td>F</td>\n",
       "      <td>27</td>\n",
       "      <td>UNM</td>\n",
       "      <td>SPC</td>\n",
       "      <td>64867.00</td>\n",
       "      <td>12</td>\n",
       "      <td>1.1</td>\n",
       "      <td>0.535257</td>\n",
       "      <td>GRD</td>\n",
       "      <td>РЕСПУБЛИКА ТАТАРСТАН</td>\n",
       "      <td>40000.0</td>\n",
       "      <td>6.0</td>\n",
       "      <td>0.0</td>\n",
       "      <td>0</td>\n",
       "    </tr>\n",
       "    <tr>\n",
       "      <th>170742</th>\n",
       "      <td>170743</td>\n",
       "      <td>F</td>\n",
       "      <td>24</td>\n",
       "      <td>MAR</td>\n",
       "      <td>SPC</td>\n",
       "      <td>17640.00</td>\n",
       "      <td>6</td>\n",
       "      <td>1.6</td>\n",
       "      <td>0.573287</td>\n",
       "      <td>SCH</td>\n",
       "      <td>САНКТ-ПЕТЕРБУРГ Г</td>\n",
       "      <td>30000.0</td>\n",
       "      <td>1.0</td>\n",
       "      <td>0.0</td>\n",
       "      <td>0</td>\n",
       "    </tr>\n",
       "    <tr>\n",
       "      <th>170743</th>\n",
       "      <td>170744</td>\n",
       "      <td>F</td>\n",
       "      <td>31</td>\n",
       "      <td>UNM</td>\n",
       "      <td>SPC</td>\n",
       "      <td>27556.47</td>\n",
       "      <td>10</td>\n",
       "      <td>1.32</td>\n",
       "      <td>0.416098</td>\n",
       "      <td>GRD</td>\n",
       "      <td>ПРИМОРСКИЙ КРАЙ</td>\n",
       "      <td>40000.0</td>\n",
       "      <td>1.0</td>\n",
       "      <td>0.0</td>\n",
       "      <td>0</td>\n",
       "    </tr>\n",
       "    <tr>\n",
       "      <th>170744</th>\n",
       "      <td>170745</td>\n",
       "      <td>F</td>\n",
       "      <td>53</td>\n",
       "      <td>DIV</td>\n",
       "      <td>PNA</td>\n",
       "      <td>6189.00</td>\n",
       "      <td>12</td>\n",
       "      <td>1.1</td>\n",
       "      <td>0.482595</td>\n",
       "      <td>SCH</td>\n",
       "      <td>ПЕНЗЕНСКАЯ ОБЛ</td>\n",
       "      <td>31000.0</td>\n",
       "      <td>2.0</td>\n",
       "      <td>0.0</td>\n",
       "      <td>0</td>\n",
       "    </tr>\n",
       "    <tr>\n",
       "      <th>170745</th>\n",
       "      <td>170746</td>\n",
       "      <td>M</td>\n",
       "      <td>49</td>\n",
       "      <td>MAR</td>\n",
       "      <td>SPC</td>\n",
       "      <td>12787.00</td>\n",
       "      <td>10</td>\n",
       "      <td>1.1</td>\n",
       "      <td>0.316087</td>\n",
       "      <td>GRD</td>\n",
       "      <td>ОБЛ МОСКОВСКАЯ</td>\n",
       "      <td>40000.0</td>\n",
       "      <td>3.0</td>\n",
       "      <td>0.0</td>\n",
       "      <td>0</td>\n",
       "    </tr>\n",
       "  </tbody>\n",
       "</table>\n",
       "<p>170746 rows × 15 columns</p>\n",
       "</div>"
      ],
      "text/plain": [
       "        client_id gender  age marital_status job_position  credit_sum  \\\n",
       "0               1      M   48            MAR          UMN    59998.00   \n",
       "1               2      F   28            MAR          UMN    10889.00   \n",
       "2               3      M   32            MAR          SPC    10728.00   \n",
       "3               4      F   27            DIV          SPC    12009.09   \n",
       "4               5      M   45            MAR          SPC    16908.89   \n",
       "...           ...    ...  ...            ...          ...         ...   \n",
       "170741     170742      F   27            UNM          SPC    64867.00   \n",
       "170742     170743      F   24            MAR          SPC    17640.00   \n",
       "170743     170744      F   31            UNM          SPC    27556.47   \n",
       "170744     170745      F   53            DIV          PNA     6189.00   \n",
       "170745     170746      M   49            MAR          SPC    12787.00   \n",
       "\n",
       "        credit_month tariff_id  score_shk education         living_region  \\\n",
       "0                 10       1.6   0.770249       GRD    КРАСНОДАРСКИЙ КРАЙ   \n",
       "1                  6       1.1   0.248514       GRD                МОСКВА   \n",
       "2                 12       1.1   0.459589       SCH       ОБЛ САРАТОВСКАЯ   \n",
       "3                 12       1.1   0.362536       GRD     ОБЛ ВОЛГОГРАДСКАЯ   \n",
       "4                 10       1.1   0.421385       SCH   ЧЕЛЯБИНСКАЯ ОБЛАСТЬ   \n",
       "...              ...       ...        ...       ...                   ...   \n",
       "170741            12       1.1   0.535257       GRD  РЕСПУБЛИКА ТАТАРСТАН   \n",
       "170742             6       1.6   0.573287       SCH     САНКТ-ПЕТЕРБУРГ Г   \n",
       "170743            10      1.32   0.416098       GRD       ПРИМОРСКИЙ КРАЙ   \n",
       "170744            12       1.1   0.482595       SCH        ПЕНЗЕНСКАЯ ОБЛ   \n",
       "170745            10       1.1   0.316087       GRD        ОБЛ МОСКОВСКАЯ   \n",
       "\n",
       "        monthly_income  credit_count  overdue_credit_count  open_account_flg  \n",
       "0              30000.0           1.0                   1.0                 0  \n",
       "1              43000.0           2.0                   0.0                 0  \n",
       "2              23000.0           5.0                   0.0                 0  \n",
       "3              17000.0           2.0                   0.0                 0  \n",
       "4              25000.0           1.0                   0.0                 0  \n",
       "...                ...           ...                   ...               ...  \n",
       "170741         40000.0           6.0                   0.0                 0  \n",
       "170742         30000.0           1.0                   0.0                 0  \n",
       "170743         40000.0           1.0                   0.0                 0  \n",
       "170744         31000.0           2.0                   0.0                 0  \n",
       "170745         40000.0           3.0                   0.0                 0  \n",
       "\n",
       "[170746 rows x 15 columns]"
      ]
     },
     "execution_count": 3,
     "metadata": {},
     "output_type": "execute_result"
    }
   ],
   "source": [
    "train_df"
   ]
  },
  {
   "cell_type": "code",
   "execution_count": 4,
   "id": "ddb83447-9724-4ee6-8ec6-7d47ef8cd0e5",
   "metadata": {
    "tags": []
   },
   "outputs": [
    {
     "name": "stdout",
     "output_type": "stream",
     "text": [
      "<class 'pandas.core.frame.DataFrame'>\n",
      "RangeIndex: 91940 entries, 0 to 91939\n",
      "Data columns (total 14 columns):\n",
      " #   Column                Non-Null Count  Dtype  \n",
      "---  ------                --------------  -----  \n",
      " 0   client_id             91940 non-null  int64  \n",
      " 1   gender                91940 non-null  object \n",
      " 2   age                   91940 non-null  int64  \n",
      " 3   marital_status        91940 non-null  object \n",
      " 4   job_position          91940 non-null  object \n",
      " 5   credit_sum            91940 non-null  float64\n",
      " 6   credit_month          91940 non-null  int64  \n",
      " 7   tariff_id             91940 non-null  object \n",
      " 8   score_shk             91940 non-null  float64\n",
      " 9   education             91940 non-null  object \n",
      " 10  living_region         91824 non-null  object \n",
      " 11  monthly_income        91940 non-null  int64  \n",
      " 12  credit_count          87237 non-null  float64\n",
      " 13  overdue_credit_count  87237 non-null  float64\n",
      "dtypes: float64(4), int64(4), object(6)\n",
      "memory usage: 9.8+ MB\n"
     ]
    }
   ],
   "source": [
    "test_df.info()"
   ]
  },
  {
   "cell_type": "code",
   "execution_count": 5,
   "id": "63c3cd25-c5c6-440e-9e7a-eb13a58e62ef",
   "metadata": {
    "tags": []
   },
   "outputs": [
    {
     "name": "stdout",
     "output_type": "stream",
     "text": [
      "<class 'pandas.core.frame.DataFrame'>\n",
      "RangeIndex: 170746 entries, 0 to 170745\n",
      "Data columns (total 15 columns):\n",
      " #   Column                Non-Null Count   Dtype  \n",
      "---  ------                --------------   -----  \n",
      " 0   client_id             170746 non-null  int64  \n",
      " 1   gender                170746 non-null  object \n",
      " 2   age                   170746 non-null  int64  \n",
      " 3   marital_status        170746 non-null  object \n",
      " 4   job_position          170746 non-null  object \n",
      " 5   credit_sum            170746 non-null  float64\n",
      " 6   credit_month          170746 non-null  int64  \n",
      " 7   tariff_id             170746 non-null  object \n",
      " 8   score_shk             170746 non-null  float64\n",
      " 9   education             170746 non-null  object \n",
      " 10  living_region         170554 non-null  object \n",
      " 11  monthly_income        170745 non-null  float64\n",
      " 12  credit_count          161516 non-null  float64\n",
      " 13  overdue_credit_count  161516 non-null  float64\n",
      " 14  open_account_flg      170746 non-null  int64  \n",
      "dtypes: float64(5), int64(4), object(6)\n",
      "memory usage: 19.5+ MB\n"
     ]
    }
   ],
   "source": [
    "train_df.info()"
   ]
  },
  {
   "cell_type": "markdown",
   "id": "bedc6dce-3bb5-4184-820b-99fa8e057eaa",
   "metadata": {},
   "source": [
    "Преобразовываю типы данных в соответствии с их интерпретацией."
   ]
  },
  {
   "cell_type": "code",
   "execution_count": 6,
   "id": "aab94a73-b5e5-4f07-a32a-51f000056318",
   "metadata": {
    "tags": []
   },
   "outputs": [],
   "source": [
    "test_df=test_df.astype({'tariff_id': 'float64'})\n",
    "train_df=train_df.astype({'tariff_id': 'float64'})\n",
    "\n",
    "category_list=['gender', 'age', 'marital_status', 'job_position', 'credit_month',\n",
    "               'tariff_id', 'education', 'living_region', 'credit_count', 'overdue_credit_count', 'open_account_flg']\n",
    "\n",
    "category_dict=dict()\n",
    "for cat in category_list[:-1]:\n",
    "    category_dict[cat]='category'\n",
    "test_df=test_df.astype(category_dict)\n",
    "\n",
    "category_dict=dict()\n",
    "for cat in category_list:\n",
    "    category_dict[cat]='category'\n",
    "train_df=train_df.astype(category_dict)"
   ]
  },
  {
   "cell_type": "markdown",
   "id": "d8f1fa8e-2e2a-491c-a840-4980675e73ec",
   "metadata": {},
   "source": [
    "В данных наблюдаются пропущенные значения, при этом модальность данных не представленна в виде временного ряда. Данные выглядят как реальные данные задачи кредитного скоринга, что позволяет предположить отсутствие известных заранее статистических зависимостей. Перечисленные причины не позволяют использовать существующие методы восстановления данных, следовательно строки с пропущенными данные должны быть удалены.\n",
    "\n",
    "* Вывод: Необходимо удалить строки с пропущенными значениями."
   ]
  },
  {
   "cell_type": "markdown",
   "id": "718db0f3-3541-422c-9db1-eefda507eca1",
   "metadata": {},
   "source": [
    "## Drop NaN valies"
   ]
  },
  {
   "cell_type": "code",
   "execution_count": 7,
   "id": "8e4b20c1-66e6-484e-97b0-07eb77f314c5",
   "metadata": {
    "tags": []
   },
   "outputs": [
    {
     "name": "stdout",
     "output_type": "stream",
     "text": [
      "<class 'pandas.core.frame.DataFrame'>\n",
      "Index: 87130 entries, 0 to 91939\n",
      "Data columns (total 14 columns):\n",
      " #   Column                Non-Null Count  Dtype   \n",
      "---  ------                --------------  -----   \n",
      " 0   client_id             87130 non-null  int64   \n",
      " 1   gender                87130 non-null  category\n",
      " 2   age                   87130 non-null  category\n",
      " 3   marital_status        87130 non-null  category\n",
      " 4   job_position          87130 non-null  category\n",
      " 5   credit_sum            87130 non-null  float64 \n",
      " 6   credit_month          87130 non-null  category\n",
      " 7   tariff_id             87130 non-null  category\n",
      " 8   score_shk             87130 non-null  float64 \n",
      " 9   education             87130 non-null  category\n",
      " 10  living_region         87130 non-null  category\n",
      " 11  monthly_income        87130 non-null  int64   \n",
      " 12  credit_count          87130 non-null  category\n",
      " 13  overdue_credit_count  87130 non-null  category\n",
      "dtypes: category(10), float64(2), int64(2)\n",
      "memory usage: 4.3 MB\n"
     ]
    }
   ],
   "source": [
    "train_df.dropna(inplace=True)\n",
    "test_df.dropna(inplace=True)\n",
    "test_df.info()"
   ]
  },
  {
   "cell_type": "code",
   "execution_count": 8,
   "id": "4cdcecdb-41c2-4ce3-a235-55445d89fe5c",
   "metadata": {
    "tags": []
   },
   "outputs": [
    {
     "name": "stdout",
     "output_type": "stream",
     "text": [
      "<class 'pandas.core.frame.DataFrame'>\n",
      "Index: 161341 entries, 0 to 170745\n",
      "Data columns (total 15 columns):\n",
      " #   Column                Non-Null Count   Dtype   \n",
      "---  ------                --------------   -----   \n",
      " 0   client_id             161341 non-null  int64   \n",
      " 1   gender                161341 non-null  category\n",
      " 2   age                   161341 non-null  category\n",
      " 3   marital_status        161341 non-null  category\n",
      " 4   job_position          161341 non-null  category\n",
      " 5   credit_sum            161341 non-null  float64 \n",
      " 6   credit_month          161341 non-null  category\n",
      " 7   tariff_id             161341 non-null  category\n",
      " 8   score_shk             161341 non-null  float64 \n",
      " 9   education             161341 non-null  category\n",
      " 10  living_region         161341 non-null  category\n",
      " 11  monthly_income        161341 non-null  float64 \n",
      " 12  credit_count          161341 non-null  category\n",
      " 13  overdue_credit_count  161341 non-null  category\n",
      " 14  open_account_flg      161341 non-null  category\n",
      "dtypes: category(11), float64(3), int64(1)\n",
      "memory usage: 8.0 MB\n"
     ]
    }
   ],
   "source": [
    "train_df.info()"
   ]
  },
  {
   "cell_type": "markdown",
   "id": "118b64e3-375c-4098-bff4-d5972376ec13",
   "metadata": {},
   "source": [
    "* Необходимо удалить дубликаты в данных"
   ]
  },
  {
   "cell_type": "markdown",
   "id": "c1c20241-3ca4-431f-b0f3-0ff303467e61",
   "metadata": {},
   "source": [
    "## Find and drop dublicates"
   ]
  },
  {
   "cell_type": "code",
   "execution_count": 9,
   "id": "d9470f99-ce9b-4126-bc3c-40d85b3744dd",
   "metadata": {
    "tags": []
   },
   "outputs": [
    {
     "data": {
      "text/plain": [
       "({False}, {False})"
      ]
     },
     "execution_count": 9,
     "metadata": {},
     "output_type": "execute_result"
    }
   ],
   "source": [
    "set(test_df.duplicated()), set(train_df.duplicated())"
   ]
  },
  {
   "cell_type": "markdown",
   "id": "9dc57e97-050c-4650-b548-34d4cc699dbe",
   "metadata": {},
   "source": [
    "Полностью дублирующиеся строки отсутствуют. \n",
    "* Необходимо выявить наличие дублирующихся клиентских ID."
   ]
  },
  {
   "cell_type": "code",
   "execution_count": 10,
   "id": "3f1945e5-5f9f-461d-8dd6-f49a3ff2aee0",
   "metadata": {
    "tags": []
   },
   "outputs": [
    {
     "data": {
      "text/plain": [
       "({False}, {False})"
      ]
     },
     "execution_count": 10,
     "metadata": {},
     "output_type": "execute_result"
    }
   ],
   "source": [
    "set(test_df.duplicated(subset=['client_id'])), set(train_df.duplicated(subset=['client_id']))"
   ]
  },
  {
   "cell_type": "markdown",
   "id": "a0d338f0-27f3-4023-8b17-320e997dc9bd",
   "metadata": {},
   "source": [
    "Дублирующиеся клиентские ID отсутствуют.\n",
    "* Необходимо выявить наличие выбросов в данных"
   ]
  },
  {
   "cell_type": "markdown",
   "id": "62a6a13f-b437-4dbc-b8b2-a91c8e9facf3",
   "metadata": {},
   "source": [
    "## Finding Outliers and Anomalies"
   ]
  },
  {
   "cell_type": "code",
   "execution_count": 11,
   "id": "01751c6b-d0d6-4c88-80e0-cc2fa2cac060",
   "metadata": {
    "tags": []
   },
   "outputs": [
    {
     "data": {
      "text/html": [
       "<div>\n",
       "<style scoped>\n",
       "    .dataframe tbody tr th:only-of-type {\n",
       "        vertical-align: middle;\n",
       "    }\n",
       "\n",
       "    .dataframe tbody tr th {\n",
       "        vertical-align: top;\n",
       "    }\n",
       "\n",
       "    .dataframe thead th {\n",
       "        text-align: right;\n",
       "    }\n",
       "</style>\n",
       "<table border=\"1\" class=\"dataframe\">\n",
       "  <thead>\n",
       "    <tr style=\"text-align: right;\">\n",
       "      <th></th>\n",
       "      <th>client_id</th>\n",
       "      <th>credit_sum</th>\n",
       "      <th>score_shk</th>\n",
       "      <th>monthly_income</th>\n",
       "    </tr>\n",
       "  </thead>\n",
       "  <tbody>\n",
       "    <tr>\n",
       "      <th>count</th>\n",
       "      <td>161341.000000</td>\n",
       "      <td>161341.000000</td>\n",
       "      <td>161341.000000</td>\n",
       "      <td>161341.000000</td>\n",
       "    </tr>\n",
       "    <tr>\n",
       "      <th>mean</th>\n",
       "      <td>85363.915979</td>\n",
       "      <td>25933.145457</td>\n",
       "      <td>0.464981</td>\n",
       "      <td>40415.308837</td>\n",
       "    </tr>\n",
       "    <tr>\n",
       "      <th>std</th>\n",
       "      <td>49278.047866</td>\n",
       "      <td>16192.292572</td>\n",
       "      <td>0.122027</td>\n",
       "      <td>25326.456157</td>\n",
       "    </tr>\n",
       "    <tr>\n",
       "      <th>min</th>\n",
       "      <td>1.000000</td>\n",
       "      <td>2736.000000</td>\n",
       "      <td>0.000000</td>\n",
       "      <td>5000.000000</td>\n",
       "    </tr>\n",
       "    <tr>\n",
       "      <th>25%</th>\n",
       "      <td>42687.000000</td>\n",
       "      <td>14828.000000</td>\n",
       "      <td>0.376793</td>\n",
       "      <td>25000.000000</td>\n",
       "    </tr>\n",
       "    <tr>\n",
       "      <th>50%</th>\n",
       "      <td>85367.000000</td>\n",
       "      <td>21076.000000</td>\n",
       "      <td>0.457566</td>\n",
       "      <td>35000.000000</td>\n",
       "    </tr>\n",
       "    <tr>\n",
       "      <th>75%</th>\n",
       "      <td>128057.000000</td>\n",
       "      <td>31768.000000</td>\n",
       "      <td>0.546254</td>\n",
       "      <td>50000.000000</td>\n",
       "    </tr>\n",
       "    <tr>\n",
       "      <th>max</th>\n",
       "      <td>170746.000000</td>\n",
       "      <td>200000.000000</td>\n",
       "      <td>0.976126</td>\n",
       "      <td>950000.000000</td>\n",
       "    </tr>\n",
       "  </tbody>\n",
       "</table>\n",
       "</div>"
      ],
      "text/plain": [
       "           client_id     credit_sum      score_shk  monthly_income\n",
       "count  161341.000000  161341.000000  161341.000000   161341.000000\n",
       "mean    85363.915979   25933.145457       0.464981    40415.308837\n",
       "std     49278.047866   16192.292572       0.122027    25326.456157\n",
       "min         1.000000    2736.000000       0.000000     5000.000000\n",
       "25%     42687.000000   14828.000000       0.376793    25000.000000\n",
       "50%     85367.000000   21076.000000       0.457566    35000.000000\n",
       "75%    128057.000000   31768.000000       0.546254    50000.000000\n",
       "max    170746.000000  200000.000000       0.976126   950000.000000"
      ]
     },
     "execution_count": 11,
     "metadata": {},
     "output_type": "execute_result"
    }
   ],
   "source": [
    "train_df.describe()"
   ]
  },
  {
   "cell_type": "code",
   "execution_count": 12,
   "id": "ba84a22c-54f1-49b3-b7cc-c80b49a49a05",
   "metadata": {
    "tags": []
   },
   "outputs": [
    {
     "data": {
      "text/html": [
       "<div>\n",
       "<style scoped>\n",
       "    .dataframe tbody tr th:only-of-type {\n",
       "        vertical-align: middle;\n",
       "    }\n",
       "\n",
       "    .dataframe tbody tr th {\n",
       "        vertical-align: top;\n",
       "    }\n",
       "\n",
       "    .dataframe thead th {\n",
       "        text-align: right;\n",
       "    }\n",
       "</style>\n",
       "<table border=\"1\" class=\"dataframe\">\n",
       "  <thead>\n",
       "    <tr style=\"text-align: right;\">\n",
       "      <th></th>\n",
       "      <th>client_id</th>\n",
       "      <th>credit_sum</th>\n",
       "      <th>score_shk</th>\n",
       "      <th>monthly_income</th>\n",
       "    </tr>\n",
       "  </thead>\n",
       "  <tbody>\n",
       "    <tr>\n",
       "      <th>count</th>\n",
       "      <td>87130.000000</td>\n",
       "      <td>87130.000000</td>\n",
       "      <td>87130.000000</td>\n",
       "      <td>87130.000000</td>\n",
       "    </tr>\n",
       "    <tr>\n",
       "      <th>mean</th>\n",
       "      <td>216717.005509</td>\n",
       "      <td>25906.939924</td>\n",
       "      <td>0.464965</td>\n",
       "      <td>40340.503845</td>\n",
       "    </tr>\n",
       "    <tr>\n",
       "      <th>std</th>\n",
       "      <td>26538.609394</td>\n",
       "      <td>16146.947238</td>\n",
       "      <td>0.122416</td>\n",
       "      <td>24900.171004</td>\n",
       "    </tr>\n",
       "    <tr>\n",
       "      <th>min</th>\n",
       "      <td>170747.000000</td>\n",
       "      <td>3000.000000</td>\n",
       "      <td>0.000000</td>\n",
       "      <td>0.000000</td>\n",
       "    </tr>\n",
       "    <tr>\n",
       "      <th>25%</th>\n",
       "      <td>193762.250000</td>\n",
       "      <td>14808.000000</td>\n",
       "      <td>0.376901</td>\n",
       "      <td>25000.000000</td>\n",
       "    </tr>\n",
       "    <tr>\n",
       "      <th>50%</th>\n",
       "      <td>216695.500000</td>\n",
       "      <td>21018.000000</td>\n",
       "      <td>0.457525</td>\n",
       "      <td>35000.000000</td>\n",
       "    </tr>\n",
       "    <tr>\n",
       "      <th>75%</th>\n",
       "      <td>239717.750000</td>\n",
       "      <td>31689.000000</td>\n",
       "      <td>0.545748</td>\n",
       "      <td>50000.000000</td>\n",
       "    </tr>\n",
       "    <tr>\n",
       "      <th>max</th>\n",
       "      <td>262686.000000</td>\n",
       "      <td>200000.000000</td>\n",
       "      <td>0.974260</td>\n",
       "      <td>700000.000000</td>\n",
       "    </tr>\n",
       "  </tbody>\n",
       "</table>\n",
       "</div>"
      ],
      "text/plain": [
       "           client_id     credit_sum     score_shk  monthly_income\n",
       "count   87130.000000   87130.000000  87130.000000    87130.000000\n",
       "mean   216717.005509   25906.939924      0.464965    40340.503845\n",
       "std     26538.609394   16146.947238      0.122416    24900.171004\n",
       "min    170747.000000    3000.000000      0.000000        0.000000\n",
       "25%    193762.250000   14808.000000      0.376901    25000.000000\n",
       "50%    216695.500000   21018.000000      0.457525    35000.000000\n",
       "75%    239717.750000   31689.000000      0.545748    50000.000000\n",
       "max    262686.000000  200000.000000      0.974260   700000.000000"
      ]
     },
     "execution_count": 12,
     "metadata": {},
     "output_type": "execute_result"
    }
   ],
   "source": [
    "test_df.describe()"
   ]
  },
  {
   "cell_type": "markdown",
   "id": "af254640-1aeb-4604-8210-7a148cf7a95c",
   "metadata": {},
   "source": [
    "Выбросы и аномалии в числовых не категориальных данных отсутствуют. Следует рассмотреть категориальные данные."
   ]
  },
  {
   "cell_type": "code",
   "execution_count": 13,
   "id": "b7085457-e39e-499e-9e30-fca9d137f89b",
   "metadata": {
    "tags": []
   },
   "outputs": [
    {
     "name": "stdout",
     "output_type": "stream",
     "text": [
      "gender {'F', 'M'}\n",
      "age {18, 19, 20, 21, 22, 23, 24, 25, 26, 27, 28, 29, 30, 31, 32, 33, 34, 35, 36, 37, 38, 39, 40, 41, 42, 43, 44, 45, 46, 47, 48, 49, 50, 51, 52, 53, 54, 55, 56, 57, 58, 59, 60, 61, 62, 63, 64, 65, 66, 67, 68, 69, 70, 71}\n",
      "marital_status {'UNM', 'DIV', 'WID', 'CIV', 'MAR'}\n",
      "job_position {'INV', 'DIR', 'PNV', 'PNI', 'INP', 'PNA', 'WOI', 'UMN', 'BIS', 'NOR', 'WRK', 'WRP', 'PNS', 'ATP', 'SPC', 'HSK', 'BIU'}\n",
      "credit_month {3, 4, 5, 6, 7, 8, 9, 10, 11, 12, 13, 14, 15, 16, 17, 18, 19, 20, 21, 22, 23, 24, 25, 26, 27, 28, 29, 30, 31, 32, 36}\n",
      "tariff_id {1.6, 1.32, 1.0, 1.1, 1.5, 1.4, 1.7, 1.3, 1.16, 1.9, 1.17, 1.25, 1.43, 1.18, 1.26, 1.44, 1.19, 1.94, 1.52, 1.27, 1.2, 1.28, 1.21, 1.96, 1.29, 1.22, 1.23, 1.48, 1.56, 1.24, 1.91, 1.41}\n",
      "education {'ACD', 'GRD', 'PGR', 'UGR', 'SCH'}\n",
      "living_region {'ЧУВАШСКАЯ РЕСПУБЛИКА - ЧУВАШИЯ', 'ПЕРМСКИЙ КРАЙ', 'РЕСПУБЛИКА САХА', 'ХАНТЫ-МАНСИЙСКИЙ АО', 'РЕСП КАЛМЫКИЯ', 'ОБЛ КОСТРОМСКАЯ', 'ОБЛ ЛЕНИНГРАДСКАЯ', 'РЕСП ДАГЕСТАН', 'МОСКВА Г', 'ЕВРЕЙСКАЯ АВТОНОМНАЯ', 'ОБЛ ВОЛГОГРАДСКАЯ', 'КРАЙ АЛТАЙСКИЙ', 'УЛЬЯНОВСКАЯ ОБЛАСТЬ', 'РЕСПУБЛИКА ДАГЕСТАН', 'ТАМБОВСКАЯ ОБЛ', 'НОВОСИБИРСКАЯ', 'ОБЛ НОВГОРОДСКАЯ', 'ОБЛ. НОВОСИБИРСКАЯ', 'РЕСП КАБАРДИНО-БАЛКАРСКАЯ', 'ОБЛ БРЯНСКАЯ', 'КАЛУЖСКАЯ', 'ОБЛ.РОСТОВСКАЯ', 'КАМЧАТСКАЯ ОБЛАСТЬ', 'ТУЛЬСКАЯ ОБЛ', 'ОБЛ МАГАДАНСКАЯ', 'НОВОСИБИРСКАЯ ОБЛАСТЬ', 'ЧЕЧЕНСКАЯ РЕСП', 'ИНГУШЕТИЯ РЕСП', 'СВЕРДЛОВСКАЯ', 'ОМСКАЯ ОБЛ', 'КЕМЕРОВСКАЯ', 'РЕСП БАШКОРТОСТАН', 'КАЛИНИНГРАДСКАЯ ОБЛ', 'ЧУВАШСКАЯ РЕСП', '98', 'АЛТАЙСКИЙ', 'ЯРОСЛАВСКАЯ ОБЛ', 'КРАЙ. СТАВРОПОЛЬСКИЙ', 'МАРИЙ ЭЛ РЕСП', 'ОБЛ ОРЛОВСКАЯ', 'ОБЛ НОВОСИБИРСКАЯ', 'НЕНЕЦКИЙ АО', 'ОБЛ. БЕЛГОРОДСКАЯ', 'АДЫГЕЯ РЕСП', 'ОБЛ. КУРГАНСКАЯ', 'РЕСПУБЛИКА КАЛМЫКИЯ', 'ОРЛОВСКАЯ ОБЛ', 'ВОРОНЕЖСКАЯ ОБЛАСТЬ', 'ВОЛОГОДСКАЯ ОБЛ', 'РЕСП САХА /ЯКУТИЯ/', 'ОБЛ.САРАТОВСКАЯ', 'ГОРЬКОВСКАЯ ОБЛ', 'БРЯНСКАЯ ОБЛ', 'ХАНТЫ-МАНСИЙСКИЙ АВТОНОМНЫЙ ОКРУГ - ЮГРА', 'СВЕРДЛОВСКАЯ ОБЛАСТЬ', 'ОБЛ РЯЗАНСКАЯ', 'КАЛМЫКИЯ РЕСП', 'РЕСП МАРИЙ ЭЛ', 'МОСКОВСКАЯ', 'КАРАЧАЕВО-ЧЕРКЕССКАЯ РЕСП', 'СТАВРОПОЛЬСКИЙ', 'ЭВЕНКИЙСКИЙ АО', 'ОБЛ КАЛИНИНГРАДСКАЯ', 'РОСТОВСКАЯ ОБЛ', 'ЛЕНИНГРАДСКАЯ ОБЛАСТЬ', 'КИРОВСКАЯ ОБЛАСТЬ', 'ТВЕРСКАЯ ОБЛ', 'ВЛАДИМИРСКАЯ ОБЛ', 'МЫТИЩИНСКИЙ Р-Н', 'ЧЕЧЕНСКАЯ РЕСПУБЛИКА', 'ЛЕНИНГРАДСКАЯ ОБЛ', 'САХА /ЯКУТИЯ/', 'САНКТ-ПЕТЕРБУРГ Г', 'ЕВРЕЙСКАЯ АОБЛ', 'ЧЕЛЯБИНСКАЯ ОБЛАСТЬ', 'ПЕНЗЕНСКАЯ ОБЛАСТЬ', 'ЛИПЕЦКАЯ ОБЛАСТЬ', 'КРАЙ ЗАБАЙКАЛЬСКИЙ', 'КРАЙ КРАСНОДАРСКИЙ', 'ОБЛ ЛИПЕЦКАЯ', 'КОСТРОМСКАЯ ОБЛ', 'МОСКВА', 'ЧИТИНСКАЯ ОБЛ', 'ОБЛ ВОРОНЕЖСКАЯ', 'КОМИ', 'ОБЛ МОСКОВСКАЯ', 'ОБЛ КАЛУЖСКАЯ', 'ПЕНЗЕНСКАЯ ОБЛ', 'ОБЛ ИРКУТСКАЯ', 'РЕСПУБЛИКА ТАТАРСТАН', 'ТОМСКАЯ ОБЛАСТЬ', 'АО НЕНЕЦКИЙ', 'РЯЗАНСКАЯ ОБЛ', 'РЕСПУБЛИКА КАРЕЛИЯ', 'БУРЯТИЯ РЕСП', 'ЧУВАШСКАЯ - ЧУВАШИЯ РЕСП', 'САМАРСКАЯ ОБЛАСТЬ', 'Г МОСКВА', 'ОБЛ ПСКОВСКАЯ', 'Г. САНКТ-ПЕТЕРБУРГ', 'КАРЕЛИЯ РЕСП', 'ОБЛ ТЮМЕНСКАЯ', 'КУРСКАЯ ОБЛАСТЬ', 'ЧУВАШИЯ ЧУВАШСКАЯ РЕСПУБЛИКА -', 'АРХАНГЕЛЬСКАЯ ОБЛАСТЬ', 'ОБЛ БЕЛГОРОДСКАЯ', 'СМОЛЕНСКАЯ ОБЛ', 'РЕСП БУРЯТИЯ', 'НИЖЕГОРОДСКАЯ ОБЛ', 'КАРАЧАЕВО-ЧЕРКЕССКАЯ', 'ОБЛ КУРГАНСКАЯ', 'ПЕРМСКАЯ ОБЛ', 'КАМЧАТСКИЙ КРАЙ', 'ОБЛ КУРСКАЯ', 'ХАКАСИЯ', 'МОСКОВСКАЯ ОБЛ', 'РЕСПУБЛИКА АЛТАЙ', 'НОВГОРОДСКАЯ ОБЛАСТЬ', 'НОВГОРОДСКАЯ ОБЛ', 'РЕСПУБЛИКА ХАКАСИЯ', 'РЕСП ТЫВА', 'АЛТАЙСКИЙ КРАЙ', 'ВОЛОГОДСКАЯ ОБЛ.', 'НОВОСИБИРСКАЯ ОБЛ', 'ПЕРМСКИЙ', 'КРАЙ КАМЧАТСКИЙ', 'ОБЛ САРАТОВСКАЯ', 'КРАЙ КРАСНОЯРСКИЙ', 'ВОЛОГОДСКАЯ', 'ОБЛ СМОЛЕНСКАЯ', 'КРАЙ СТАВРОПОЛЬСКИЙ', 'АСТРАХАНСКАЯ ОБЛАСТЬ', 'УЛЬЯНОВСКАЯ ОБЛ', 'КРАЙ. КРАСНОЯРСКИЙ', 'ОБЛ ТОМСКАЯ', 'СМОЛЕНСКАЯ ОБЛАСТЬ', 'ЯМАЛО-НЕНЕЦКИЙ АО', 'РЕСП. САХА (ЯКУТИЯ)', 'ТВЕРСКАЯ ОБЛАСТЬ', 'САМАРСКАЯ ОБЛ', 'РЕСПУБЛИКА МАРИЙ ЭЛ', 'СЕВ. ОСЕТИЯ - АЛАНИЯ', 'ИВАНОВСКАЯ ОБЛ', 'РЕСПУБЛИКА АДЫГЕЯ', 'КРАЙ ХАБАРОВСКИЙ', 'ОБЛ САХАЛИНСКАЯ', 'ВОЛГОГРАДСКАЯ ОБЛ', 'РЕСП МОРДОВИЯ', 'ОБЛ ТАМБОВСКАЯ', 'МОСКОВСКАЯ ОБЛАСТЬ', 'ОБЛ МУРМАНСКАЯ', 'РЕСП ИНГУШЕТИЯ', 'БЕЛГОРОДСКАЯ ОБЛАСТЬ', 'РОССИЯ', 'ОБЛ ПЕНЗЕНСКАЯ', 'КРАЙ. ПЕРМСКИЙ', 'РЕСПУБЛИКА БУРЯТИЯ', 'ОБЛ. СВЕРДЛОВСКАЯ', 'ВОЛГОГРАДСКАЯ ОБЛАСТЬ', 'АО ХАНТЫ-МАНСИЙСКИЙ АВТОНОМНЫЙ ОКРУГ - Ю', 'САНКТ-ПЕТЕРБУРГ', 'УДМУРТСКАЯ РЕСП', 'ТУЛЬСКАЯ ОБЛАСТЬ', 'ЧЕЛЯБИНСКАЯ ОБЛ', 'БУРЯТИЯ', 'РЕСПУБЛИКА МОРДОВИЯ', 'МОРДОВИЯ РЕСП', 'РЕСП. БАШКОРТОСТАН', 'ЯРОСЛАВСКАЯ ОБЛАСТЬ', 'МОСКВОСКАЯ ОБЛ', 'ОБЛ ТУЛЬСКАЯ', 'РЕСП ЧЕЧЕНСКАЯ', 'ДАГЕСТАН РЕСП', 'ОМСКАЯ', 'КИРОВСКАЯ ОБЛ', 'ОБЛ УЛЬЯНОВСКАЯ', 'КЕМЕРОВСКАЯ ОБЛАСТЬ', 'АОБЛ ЕВРЕЙСКАЯ', 'ТОМСКАЯ ОБЛ', 'РОСТОВСКАЯ', 'ОБЛ АМУРСКАЯ', 'ИВАНОВСКАЯ ОБЛАСТЬ', 'ЗАБАЙКАЛЬСКИЙ КРАЙ', 'ОБЛ ТВЕРСКАЯ', 'ОБЛ САМАРСКАЯ', 'ЧУВАШСКАЯ РЕСПУБЛИКА', 'КАРЕЛИЯ', 'ТЫВА РЕСП', 'МАГАДАНСКАЯ ОБЛАСТЬ', 'ОБЛ.МОСКОВСКАЯ', 'АСТРАХАНСКАЯ ОБЛ', 'КЕМЕРОВСКАЯ ОБЛ', 'АМУРСКАЯ ОБЛАСТЬ', 'ПСКОВСКАЯ ОБЛАСТЬ', 'РЕСПУБЛИКАТАТАРСТАН', 'ТЮМЕНСКАЯ ОБЛАСТЬ', 'ПРИМОРСКИЙ КРАЙ', 'САРАТОВСКАЯ ОБЛ', 'ЛЕНИНГРАДСКАЯ', 'КАЛУЖСКАЯ ОБЛ', 'БРЯНСКАЯ ОБЛАСТЬ', 'ОБЛ. МУРМАНСКАЯ', 'КРАЙ ПРИМОРСКИЙ', 'РЕСП КАРАЧАЕВО-ЧЕРКЕССКАЯ', 'ОБЛ СВЕРДЛОВСКАЯ', 'ОБЛ ВЛАДИМИРСКАЯ', 'ОБЛ КИРОВСКАЯ', 'САХАЛИНСКАЯ ОБЛАСТЬ', 'ОБЛ ЯРОСЛАВСКАЯ', 'БРЯНСКИЙ', 'ОБЛ ОМСКАЯ', 'РЕСП КАРЕЛИЯ', 'КАЛИНИНГРАДСКАЯ ОБЛ.', 'ОРЕНБУРГСКАЯ ОБЛАСТЬ', 'ОРЁЛ', 'КАЛУЖСКАЯ ОБЛАСТЬ', 'БАШКОРТОСТАН', 'ОБЛ ЧЕЛЯБИНСКАЯ', 'ПСКОВСКАЯ ОБЛ', 'МУРМАНСКАЯ ОБЛАСТЬ', 'ОБЛ. ВЛАДИМИРСКАЯ', 'ВОРОНЕЖСКАЯ ОБЛ', 'НИЖЕГОРОДСКАЯ ОБЛАСТЬ', 'АО ЯМАЛО-НЕНЕЦКИЙ', 'ОБЛ РОСТОВСКАЯ', 'САМАРСКАЯ', 'РЕСПУБЛИКА ТЫВА', 'КРАЙ.ПЕРМСКИЙ', 'ВЛАДИМИРСКАЯ ОБЛАСТЬ', 'ОБЛ ВОЛОГОДСКАЯ', 'РЕСП АДЫГЕЯ', 'ОБЛ ОРЕНБУРГСКАЯ', 'ПРИВОЛЖСКИЙ ФЕДЕРАЛЬНЫЙ ОКРУГ', 'СВЕРДЛОВСКАЯ ОБЛ', 'САРАТОВСКАЯ ОБЛАСТЬ', 'СТАВРОПОЛЬСКИЙ КРАЙ', 'ХАКАСИЯ РЕСП', 'КРАЙ ПЕРМСКИЙ', 'РЯЗАНСКАЯ ОБЛАСТЬ', 'ОБЛ НИЖЕГОРОДСКАЯ', 'СЕВЕРНАЯ ОСЕТИЯ - АЛАНИЯ РЕСП', 'ХАБАРОВСКИЙ КРАЙ', 'САХА /ЯКУТИЯ/ РЕСП', 'ОМСКАЯ ОБЛАСТЬ', 'РЕСП ТАТАРСТАН', 'ЧУКОТСКИЙ АО', 'МУРМАНСКАЯ ОБЛ', 'РОСТОВСКАЯ ОБЛАСТЬ', 'РЕСП ЧУВАШСКАЯ - ЧУВАШИЯ', 'ОБЛ КЕМЕРОВСКАЯ', 'ТЮМЕНСКАЯ ОБЛ', 'Г. МОСКВА', 'ГУСЬ-ХРУСТАЛЬНЫЙ Р-Н', 'КУРГАНСКАЯ ОБЛ', 'РЕСП КОМИ', 'АМУРСКАЯ ОБЛ', 'АРХАНГЕЛЬСКАЯ ОБЛ', 'КАЛМЫКИЯ', 'РЕСП ХАКАСИЯ', 'УДМУРТСКАЯ РЕСПУБЛИКА', 'РЕСП. КОМИ', 'ТЮМЕНСКАЯ', 'ЛИПЕЦКАЯ ОБЛ', 'ОРЕНБУРГСКАЯ ОБЛ', 'БЕЛГОРОДСКАЯ ОБЛ', 'КРАСНОДАРСКИЙ КРАЙ', 'РЕСП АЛТАЙ', 'ИРКУТСКАЯ ОБЛ', 'КОСТРОМСКАЯ ОБЛАСТЬ', '74', 'ОБЛ. ЧЕЛЯБИНСКАЯ', 'ОБЛ АРХАНГЕЛЬСКАЯ', 'ОРЛОВСКАЯ ОБЛАСТЬ', 'КОМИ РЕСП', 'РЕСП.БАШКОРТОСТАН', 'РЕСПУБЛИКА КОМИ', 'АРХАНГЕЛЬСКАЯ', 'КУРГАНСКАЯ ОБЛАСТЬ', 'ОБЛ ИВАНОВСКАЯ', 'КАБАРДИНО-БАЛКАРСКАЯ РЕСП', 'РЕСП УДМУРТСКАЯ', 'САХАЛИНСКАЯ ОБЛ', 'КАБАРДИНО-БАЛКАРСКАЯ', 'ТОМСКАЯ', 'ОБЛ. КИРОВСКАЯ', 'КРАСНОДАРСКИЙ', 'ОБЛ.НИЖЕГОРОДСКАЯ', 'ТАТАРСТАН РЕСП', 'ВОЛОГОДСКАЯ ОБЛАСТЬ', 'ТАМБОВСКАЯ ОБЛАСТЬ', 'КУРСКАЯ ОБЛ', 'ОБЛ. ЛИПЕЦКАЯ', 'ОБЛ АСТРАХАНСКАЯ', 'БАШКОРТОСТАН РЕСП', 'РЕСП СЕВЕРНАЯ ОСЕТИЯ - АЛАНИЯ', 'КРАСНОЯРСКИЙ КРАЙ', 'ИРКУТСКАЯ ОБЛАСТЬ', 'АСТРАХАНСКАЯ'}\n",
      "credit_count {0.0, 1.0, 2.0, 3.0, 4.0, 5.0, 6.0, 7.0, 8.0, 9.0, 10.0, 11.0, 12.0, 13.0, 14.0, 15.0, 16.0, 17.0, 18.0, 19.0, 21.0}\n",
      "overdue_credit_count {0.0, 1.0, 2.0, 3.0}\n",
      "open_account_flg {0, 1}\n"
     ]
    }
   ],
   "source": [
    "for col in train_df.select_dtypes(include='category').columns:\n",
    "    print(col, set(train_df[col]))"
   ]
  },
  {
   "cell_type": "code",
   "execution_count": 14,
   "id": "7bcf08bb-9d79-4369-a19f-bfde5ad38b23",
   "metadata": {
    "tags": []
   },
   "outputs": [
    {
     "name": "stdout",
     "output_type": "stream",
     "text": [
      "gender {'F', 'M'}\n",
      "age {18, 19, 20, 21, 22, 23, 24, 25, 26, 27, 28, 29, 30, 31, 32, 33, 34, 35, 36, 37, 38, 39, 40, 41, 42, 43, 44, 45, 46, 47, 48, 49, 50, 51, 52, 53, 54, 55, 56, 57, 58, 59, 60, 61, 62, 63, 64, 65, 66, 67, 68, 69, 70, 71}\n",
      "marital_status {'UNM', 'WID', 'DIV', 'CIV', 'MAR'}\n",
      "job_position {'INV', 'DIR', 'PNV', 'PNI', 'INP', 'PNA', 'WOI', 'UMN', 'BIS', 'WRK', 'NOR', 'WRP', 'ONB', 'HSK', 'ATP', 'SPC', 'PNS', 'BIU'}\n",
      "credit_month {3, 4, 5, 6, 7, 8, 9, 10, 11, 12, 13, 14, 15, 16, 17, 18, 19, 20, 21, 22, 23, 24, 25, 26, 28, 30, 31, 32, 36}\n",
      "tariff_id {1.1, 1.32, 1.6, 1.4, 1.43, 1.44, 1.0, 1.9, 1.19, 1.5, 1.17, 1.25, 1.18, 1.26, 1.94, 1.27, 1.2, 1.7, 1.28, 1.21, 1.29, 1.22, 1.3, 1.23, 1.56, 1.48, 1.16, 1.24, 1.41, 1.91}\n",
      "education {'ACD', 'GRD', 'PGR', 'UGR', 'SCH'}\n",
      "living_region {'ЧУВАШСКАЯ РЕСПУБЛИКА - ЧУВАШИЯ', 'ПЕРМСКИЙ КРАЙ', 'ХАНТЫ-МАНСИЙСКИЙ АО', 'РЕСП КАЛМЫКИЯ', 'ОБЛ ЛЕНИНГРАДСКАЯ', 'ОБЛ КОСТРОМСКАЯ', 'РЕСП ДАГЕСТАН', 'МОСКВА Г', 'ЕВРЕЙСКАЯ АВТОНОМНАЯ', 'ОБЛ ВОЛГОГРАДСКАЯ', 'КРАЙ АЛТАЙСКИЙ', 'УЛЬЯНОВСКАЯ ОБЛАСТЬ', 'Г САНКТ-ПЕТЕРБУРГ', 'РЕСПУБЛИКА ДАГЕСТАН', 'ТАМБОВСКАЯ ОБЛ', 'ОБЛ НОВГОРОДСКАЯ', 'РЕСП КАБАРДИНО-БАЛКАРСКАЯ', 'ОБЛ БРЯНСКАЯ', 'НОВОСИБИРСКАЯ ОБЛАСТЬ', 'ИНГУШЕТИЯ РЕСП', 'КАМЧАТСКАЯ ОБЛАСТЬ', 'ТУЛЬСКАЯ ОБЛ', 'ОБЛ МАГАДАНСКАЯ', 'ЧЕЧЕНСКАЯ РЕСП', 'ОМСКАЯ ОБЛ', 'РЕСП БАШКОРТОСТАН', 'ЧУКОТСКИЙ АO', 'КАЛИНИНГРАДСКАЯ ОБЛ', 'АЛТАЙСКИЙ', 'ЯРОСЛАВСКАЯ ОБЛ', 'МАРИЙ ЭЛ РЕСП', 'ОБЛ ОРЛОВСКАЯ', 'ОБЛ НОВОСИБИРСКАЯ', 'НЕНЕЦКИЙ АО', 'АДЫГЕЯ РЕСП', 'РЕСПУБЛИКА КАЛМЫКИЯ', 'ОРЛОВСКАЯ ОБЛ', 'ВОРОНЕЖСКАЯ ОБЛАСТЬ', 'ВОЛОГОДСКАЯ ОБЛ', 'РЕСП САХА /ЯКУТИЯ/', 'ГОРЬКОВСКАЯ ОБЛ', 'БРЯНСКАЯ ОБЛ', 'Г. ЧЕЛЯБИНСК', 'ХАНТЫ-МАНСИЙСКИЙ АВТОНОМНЫЙ ОКРУГ - ЮГРА', 'ЛИПЕЦКАЯ ОБЛАСТЬ', 'СВЕРДЛОВСКАЯ ОБЛАСТЬ', 'ОБЛ РЯЗАНСКАЯ', 'КАЛМЫКИЯ РЕСП', 'РЕСП МАРИЙ ЭЛ', 'КАРАЧАЕВО-ЧЕРКЕССКАЯ РЕСП', 'МОСКОВСКАЯ', 'СТАВРОПОЛЬСКИЙ', 'ОБЛ КАЛИНИНГРАДСКАЯ', 'РОСТОВСКАЯ ОБЛ', 'ЛЕНИНГРАДСКАЯ ОБЛАСТЬ', 'КИРОВСКАЯ ОБЛАСТЬ', 'ТВЕРСКАЯ ОБЛ', 'ВЛАДИМИРСКАЯ ОБЛ', 'ЧЕЧЕНСКАЯ РЕСПУБЛИКА', 'ЛЕНИНГРАДСКАЯ ОБЛ', 'САНКТ-ПЕТЕРБУРГ Г', 'ЕВРЕЙСКАЯ АОБЛ', 'ЧЕЛЯБИНСКАЯ ОБЛАСТЬ', 'ПЕНЗЕНСКАЯ ОБЛАСТЬ', 'АЛТАЙСКИЙ КРАЙ', 'КРАЙ ЗАБАЙКАЛЬСКИЙ', 'КРАЙ КРАСНОДАРСКИЙ', 'ОБЛ ЛИПЕЦКАЯ', 'ЧИТИНСКАЯ ОБЛ', 'МОСКВА', 'КОСТРОМСКАЯ ОБЛ', 'ОБЛ ВОРОНЕЖСКАЯ', 'ОБЛ МОСКОВСКАЯ', 'ОБЛ КАЛУЖСКАЯ', 'ПЕНЗЕНСКАЯ ОБЛ', 'ОБЛ ИРКУТСКАЯ', 'РЕСПУБЛИКА ТАТАРСТАН', 'ТОМСКАЯ ОБЛАСТЬ', 'АО НЕНЕЦКИЙ', 'БУРЯТИЯ РЕСП', 'РЕСПУБЛИКА КАРЕЛИЯ', 'РЯЗАНСКАЯ ОБЛ', 'ЧУВАШСКАЯ - ЧУВАШИЯ РЕСП', 'САМАРСКАЯ ОБЛАСТЬ', 'Г МОСКВА', 'ОБЛ ПСКОВСКАЯ', 'Г. САНКТ-ПЕТЕРБУРГ', 'КАРЕЛИЯ РЕСП', 'ОБЛ ТЮМЕНСКАЯ', 'КУРСКАЯ ОБЛАСТЬ', 'ЧУВАШИЯ ЧУВАШСКАЯ РЕСПУБЛИКА -', 'АРХАНГЕЛЬСКАЯ ОБЛАСТЬ', 'ОБЛ БЕЛГОРОДСКАЯ', 'СМОЛЕНСКАЯ ОБЛ', 'РЕСП БУРЯТИЯ', 'НИЖЕГОРОДСКАЯ ОБЛ', 'ОБЛ КУРГАНСКАЯ', 'ПЕРМСКАЯ ОБЛ', 'КАМЧАТСКИЙ КРАЙ', 'ОБЛ КУРСКАЯ', 'ВОЛГОГРАДСКАЯ', 'МОСКОВСКАЯ ОБЛ', 'НОВГОРОДСКАЯ ОБЛАСТЬ', 'ОРЛОВСКАЯ', 'НОВГОРОДСКАЯ ОБЛ', 'РЕСПУБЛИКА ХАКАСИЯ', 'РЕСП ТЫВА', 'НОВОСИБИРСКАЯ ОБЛ', 'КРАЙ КАМЧАТСКИЙ', 'ОБЛ САРАТОВСКАЯ', 'КРАЙ КРАСНОЯРСКИЙ', 'ВОЛОГОДСКАЯ', 'ОБЛ СМОЛЕНСКАЯ', 'КРАЙ СТАВРОПОЛЬСКИЙ', 'АСТРАХАНСКАЯ ОБЛАСТЬ', 'УЛЬЯНОВСКАЯ ОБЛ', 'ОБЛ ТОМСКАЯ', 'СМОЛЕНСКАЯ ОБЛАСТЬ', 'САМАРСКАЯ ОБЛ', 'ЯМАЛО-НЕНЕЦКИЙ АО', 'ТВЕРСКАЯ ОБЛАСТЬ', 'РЕСП. САХА (ЯКУТИЯ)', 'РЕСПУБЛИКА МАРИЙ ЭЛ', 'СЕВ. ОСЕТИЯ - АЛАНИЯ', 'ИВАНОВСКАЯ ОБЛ', 'КРАЙ ХАБАРОВСКИЙ', 'РЕСПУБЛИКА АДЫГЕЯ', 'ОБЛ САХАЛИНСКАЯ', 'ВОЛГОГРАДСКАЯ ОБЛ', 'РЕСП МОРДОВИЯ', 'ОБЛ ТАМБОВСКАЯ', 'МОСКОВСКАЯ ОБЛАСТЬ', 'ОБЛ МУРМАНСКАЯ', 'БЕЛГОРОДСКАЯ ОБЛАСТЬ', 'РЕСП ИНГУШЕТИЯ', 'ОБЛ ПЕНЗЕНСКАЯ', 'РЕСПУБЛИКА БУРЯТИЯ', 'ВОЛГОГРАДСКАЯ ОБЛАСТЬ', 'АО ХАНТЫ-МАНСИЙСКИЙ АВТОНОМНЫЙ ОКРУГ - Ю', 'САНКТ-ПЕТЕРБУРГ', 'УДМУРТСКАЯ РЕСП', 'ТУЛЬСКАЯ ОБЛАСТЬ', 'ЧЕЛЯБИНСКАЯ ОБЛ', 'БУРЯТИЯ', 'РЕСПУБЛИКА МОРДОВИЯ', 'МОРДОВИЯ РЕСП', 'РЕСП. БАШКОРТОСТАН', 'ЯРОСЛАВСКАЯ ОБЛАСТЬ', 'ОБЛ ТУЛЬСКАЯ', 'РЕСП ЧЕЧЕНСКАЯ', 'ДАГЕСТАН РЕСП', 'ПСКОВСКАЯ', 'КИРОВСКАЯ ОБЛ', 'ОБЛ УЛЬЯНОВСКАЯ', 'КЕМЕРОВСКАЯ ОБЛАСТЬ', 'МОСКОВСКИЙ П', 'ТОМСКАЯ ОБЛ', 'АОБЛ ЕВРЕЙСКАЯ', 'ОБЛ АМУРСКАЯ', 'ИВАНОВСКАЯ ОБЛАСТЬ', 'ЗАБАЙКАЛЬСКИЙ КРАЙ', 'ОБЛ ТВЕРСКАЯ', 'ОБЛ САМАРСКАЯ', 'ЧУВАШСКАЯ РЕСПУБЛИКА', 'КАРЕЛИЯ', 'ТЫВА РЕСП', 'КАМЧАТС??ИЙ КРАЙ', 'РЕСП.ТАТАРСТАН', 'АО ЧУКОТСКИЙ', 'АСТРАХАНСКАЯ ОБЛ', 'КЕМЕРОВСКАЯ ОБЛ', 'АМУРСКАЯ ОБЛАСТЬ', 'ПСКОВСКАЯ ОБЛАСТЬ', 'КАЛУЖСКАЯ ОБЛ', 'ТЮМЕНСКАЯ ОБЛАСТЬ', 'ПРИМОРСКИЙ КРАЙ', 'САРАТОВСКАЯ ОБЛ', 'БРЯНСКАЯ ОБЛАСТЬ', 'ЛЕНИНГРАДСКАЯ', 'ЯМАЛО-НЕНЕЦКИЙ', 'ПЕНЗЕНСКАЯ', 'КРАЙ ПРИМОРСКИЙ', 'ОБЛ КИРОВСКАЯ', 'ОБЛ СВЕРДЛОВСКАЯ', 'РЕСП КАРАЧАЕВО-ЧЕРКЕССКАЯ', 'ОБЛ ВЛАДИМИРСКАЯ', 'ОБЛ ЯРОСЛАВСКАЯ', 'САХАЛИНСКАЯ ОБЛАСТЬ', 'КАЛИНИНГРАДСКАЯ ОБЛ.', 'ОБЛ ОМСКАЯ', 'РЕСП КАРЕЛИЯ', 'ОРЕНБУРГСКАЯ ОБЛАСТЬ', 'КАЛУЖСКАЯ ОБЛАСТЬ', 'БАШКОРТОСТАН', 'ОБЛ ЧЕЛЯБИНСКАЯ', 'ПСКОВСКАЯ ОБЛ', 'МУРМАНСКАЯ ОБЛАСТЬ', 'ВОРОНЕЖСКАЯ ОБЛ', 'НИЖЕГОРОДСКАЯ ОБЛАСТЬ', 'ОБЛ РОСТОВСКАЯ', 'АО ЯМАЛО-НЕНЕЦКИЙ', 'САМАРСКАЯ', 'РЕСПУБЛИКА ТЫВА', 'ВЛАДИМИРСКАЯ ОБЛАСТЬ', 'ОБЛ ВОЛОГОДСКАЯ', 'РЕСП АДЫГЕЯ', 'ОБЛ ОРЕНБУРГСКАЯ', 'СВЕРДЛОВСКАЯ ОБЛ', 'САРАТОВСКАЯ ОБЛАСТЬ', 'СТАВРОПОЛЬСКИЙ КРАЙ', 'ХАКАСИЯ РЕСП', 'КРАЙ ПЕРМСКИЙ', 'РЯЗАНСКАЯ ОБЛАСТЬ', 'ОБЛ НИЖЕГОРОДСКАЯ', 'СЕВЕРНАЯ ОСЕТИЯ - АЛАНИЯ РЕСП', 'ХАБАРОВСКИЙ КРАЙ', 'САХА /ЯКУТИЯ/ РЕСП', 'ОМСКАЯ ОБЛАСТЬ', 'РЕСП ТАТАРСТАН', 'ЧУКОТСКИЙ АО', 'МУРМАНСКАЯ ОБЛ', 'РОСТОВСКАЯ ОБЛАСТЬ', 'ОБЛ КЕМЕРОВСКАЯ', 'ТЮМЕНСКАЯ ОБЛ', 'Г. МОСКВА', 'АО ХАНТЫ-МАНСИЙСКИЙ-ЮГРА', 'КУРГАНСКАЯ ОБЛ', 'РЕСП КОМИ', 'АРХАНГЕЛЬСКАЯ ОБЛ', 'АМУРСКАЯ ОБЛ', 'РЕСП ХАКАСИЯ', 'УДМУРТСКАЯ РЕСПУБЛИКА', 'РЕСП. КОМИ', 'ЛИПЕЦКАЯ ОБЛ', 'ОРЕНБУРГСКАЯ ОБЛ', 'БЕЛГОРОДСКАЯ ОБЛ', 'КРАСНОДАРСКИЙ КРАЙ', 'РЕСП АЛТАЙ', 'ИРКУТСКАЯ ОБЛ', 'ОБЛ. МОСКОВСКАЯ', 'ОРЕНБУРГСКАЯ', 'КОСТРОМСКАЯ ОБЛАСТЬ', 'ОБЛ АРХАНГЕЛЬСКАЯ', 'ОРЛОВСКАЯ ОБЛАСТЬ', 'КОМИ РЕСП', 'РЕСП.БАШКОРТОСТАН', 'РЕСПУБЛИКА КОМИ', 'КУРГАНСКАЯ ОБЛАСТЬ', 'АРХАНГЕЛЬСКАЯ', 'ОБЛ ИВАНОВСКАЯ', 'РЕСП УДМУРТСКАЯ', 'КАБАРДИНО-БАЛКАРСКАЯ РЕСП', 'САХАЛИНСКАЯ ОБЛ', 'КАБАРДИНО-БАЛКАРСКАЯ', 'КРАСНОДАРСКИЙ', 'ТАТАРСТАН РЕСП', 'ВОЛОГОДСКАЯ ОБЛАСТЬ', 'ТАМБОВСКАЯ ОБЛАСТЬ', 'КУРСКАЯ ОБЛ', 'ОБЛ АСТРАХАНСКАЯ', 'БАШКОРТОСТАН РЕСП', 'РЕСП СЕВЕРНАЯ ОСЕТИЯ - АЛАНИЯ', 'КРАСНОЯРСКИЙ КРАЙ', 'ИРКУТСКАЯ ОБЛАСТЬ', 'АСТРАХАНСКАЯ'}\n",
      "credit_count {0.0, 1.0, 2.0, 3.0, 4.0, 5.0, 6.0, 7.0, 8.0, 9.0, 10.0, 11.0, 12.0, 13.0, 14.0, 15.0, 16.0, 18.0, 22.0}\n",
      "overdue_credit_count {0.0, 1.0, 2.0, 3.0}\n"
     ]
    }
   ],
   "source": [
    "for col in test_df.select_dtypes(include='category').columns:\n",
    "    print(col, set(test_df[col]))"
   ]
  },
  {
   "cell_type": "markdown",
   "id": "adcf4546-9f88-4476-b1fd-d90a9e1c25ef",
   "metadata": {},
   "source": [
    "В контексте препроцессинга существует интерес для детального анализа столбца \"living_region\", поскольку визуальный анализ показывает наличие одинаковых наименований областей с различным описанием.\n",
    "\n",
    "* Необходимо привести наименование областей к стандартизированному виду."
   ]
  },
  {
   "cell_type": "markdown",
   "id": "568a7229-8b44-43a3-81f3-a7feeb21d278",
   "metadata": {},
   "source": [
    "## Region standartization"
   ]
  },
  {
   "cell_type": "code",
   "execution_count": 15,
   "id": "3e46176d-6802-4e9c-a48e-77a377298433",
   "metadata": {
    "tags": []
   },
   "outputs": [
    {
     "data": {
      "text/plain": [
       "count             161341\n",
       "unique               298\n",
       "top       ОБЛ МОСКОВСКАЯ\n",
       "freq               11371\n",
       "Name: living_region, dtype: object"
      ]
     },
     "execution_count": 15,
     "metadata": {},
     "output_type": "execute_result"
    }
   ],
   "source": [
    "train_df.living_region.describe()"
   ]
  },
  {
   "cell_type": "code",
   "execution_count": 16,
   "id": "9469d900-2b0d-4804-ae33-4eba79dba9e1",
   "metadata": {
    "tags": []
   },
   "outputs": [
    {
     "data": {
      "text/plain": [
       "living_region\n",
       "ОБЛ МОСКОВСКАЯ                   11371\n",
       "КРАСНОДАРСКИЙ КРАЙ                6951\n",
       "САНКТ-ПЕТЕРБУРГ                   5248\n",
       "МОСКВА                            5077\n",
       "ТАТАРСТАН РЕСП                    4918\n",
       "                                 ...  \n",
       "КРАЙ. КРАСНОЯРСКИЙ                   1\n",
       "ПРИВОЛЖСКИЙ ФЕДЕРАЛЬНЫЙ ОКРУГ        1\n",
       "ДАЛЬНИЙ ВОСТОК                       0\n",
       "Г.ОДИНЦОВО МОСКОВСКАЯ ОБЛ            0\n",
       "Г.МОСКВА                             0\n",
       "Name: count, Length: 301, dtype: int64"
      ]
     },
     "execution_count": 16,
     "metadata": {},
     "output_type": "execute_result"
    }
   ],
   "source": [
    "train_df.living_region.value_counts()"
   ]
  },
  {
   "cell_type": "markdown",
   "id": "5e36848c-1e0a-4e74-a9aa-26770d983867",
   "metadata": {},
   "source": [
    "Визуальный анализ показывает, что в столбце \"living_region\" количественно значимы как города в отдельности, так и области. Можно предположить, что клиенты проживающие в городах имеют кредитное отличие от клиентов проживающих в области. При этом клиенты проживающие в областях имеют некоторую кредитную схожесть с клиентами проживающими в экономических центрах областей, от клиентов иных областей и экономических центов. \n",
    "\n",
    "Выводы\n",
    "* Города и области не должны быть обобщены;\n",
    "* Идентификатор локации должен отражать географическую привязку, в виду экономической специфики РФ - наиболее экономически развитые локации распологаются недалеко от экономических центов.\n",
    "\n",
    "Задачи:\n",
    "* Найти идентификатор численно характеризующий географическую близость локаций.\n",
    "\n",
    "Для выполнения данной задачи используется набор данных содержащий различные идентификаторы для областей и городов РФ.\n",
    "\n",
    "Ссылка на используемый набор данных: https://github.com/hflabs/region/blob/master/region.csv"
   ]
  },
  {
   "cell_type": "code",
   "execution_count": 17,
   "id": "fede66f1-c936-4574-9014-3dd2ddc8cbbf",
   "metadata": {
    "tags": []
   },
   "outputs": [
    {
     "data": {
      "text/html": [
       "<div>\n",
       "<style scoped>\n",
       "    .dataframe tbody tr th:only-of-type {\n",
       "        vertical-align: middle;\n",
       "    }\n",
       "\n",
       "    .dataframe tbody tr th {\n",
       "        vertical-align: top;\n",
       "    }\n",
       "\n",
       "    .dataframe thead th {\n",
       "        text-align: right;\n",
       "    }\n",
       "</style>\n",
       "<table border=\"1\" class=\"dataframe\">\n",
       "  <thead>\n",
       "    <tr style=\"text-align: right;\">\n",
       "      <th></th>\n",
       "      <th>name</th>\n",
       "      <th>type</th>\n",
       "      <th>name_with_type</th>\n",
       "      <th>federal_district</th>\n",
       "      <th>kladr_id</th>\n",
       "      <th>fias_id</th>\n",
       "      <th>okato</th>\n",
       "      <th>oktmo</th>\n",
       "      <th>tax_office</th>\n",
       "      <th>postal_code</th>\n",
       "      <th>iso_code</th>\n",
       "      <th>timezone</th>\n",
       "      <th>geoname_code</th>\n",
       "      <th>geoname_id</th>\n",
       "      <th>geoname_name</th>\n",
       "    </tr>\n",
       "  </thead>\n",
       "  <tbody>\n",
       "    <tr>\n",
       "      <th>0</th>\n",
       "      <td>Адыгея</td>\n",
       "      <td>Респ</td>\n",
       "      <td>Респ Адыгея</td>\n",
       "      <td>Южный</td>\n",
       "      <td>100000000000</td>\n",
       "      <td>d8327a56-80de-4df2-815c-4f6ab1224c50</td>\n",
       "      <td>79000000000</td>\n",
       "      <td>79000000</td>\n",
       "      <td>100</td>\n",
       "      <td>385000.0</td>\n",
       "      <td>RU-AD</td>\n",
       "      <td>UTC+3</td>\n",
       "      <td>RU.01</td>\n",
       "      <td>584222</td>\n",
       "      <td>Adygeya Republic</td>\n",
       "    </tr>\n",
       "    <tr>\n",
       "      <th>1</th>\n",
       "      <td>Башкортостан</td>\n",
       "      <td>Респ</td>\n",
       "      <td>Респ Башкортостан</td>\n",
       "      <td>Приволжский</td>\n",
       "      <td>200000000000</td>\n",
       "      <td>6f2cbfd8-692a-4ee4-9b16-067210bde3fc</td>\n",
       "      <td>80000000000</td>\n",
       "      <td>80000000</td>\n",
       "      <td>200</td>\n",
       "      <td>452000.0</td>\n",
       "      <td>RU-BA</td>\n",
       "      <td>UTC+5</td>\n",
       "      <td>RU.08</td>\n",
       "      <td>578853</td>\n",
       "      <td>Bashkortostan Republic</td>\n",
       "    </tr>\n",
       "    <tr>\n",
       "      <th>2</th>\n",
       "      <td>Бурятия</td>\n",
       "      <td>Респ</td>\n",
       "      <td>Респ Бурятия</td>\n",
       "      <td>Дальневосточный</td>\n",
       "      <td>300000000000</td>\n",
       "      <td>a84ebed3-153d-4ba9-8532-8bdf879e1f5a</td>\n",
       "      <td>81000000000</td>\n",
       "      <td>81000000</td>\n",
       "      <td>300</td>\n",
       "      <td>671000.0</td>\n",
       "      <td>RU-BU</td>\n",
       "      <td>UTC+8</td>\n",
       "      <td>RU.11</td>\n",
       "      <td>2050915</td>\n",
       "      <td>Buryatiya Republic</td>\n",
       "    </tr>\n",
       "    <tr>\n",
       "      <th>3</th>\n",
       "      <td>Алтай</td>\n",
       "      <td>Респ</td>\n",
       "      <td>Респ Алтай</td>\n",
       "      <td>Сибирский</td>\n",
       "      <td>400000000000</td>\n",
       "      <td>5c48611f-5de6-4771-9695-7e36a4e7529d</td>\n",
       "      <td>84000000000</td>\n",
       "      <td>84000000</td>\n",
       "      <td>400</td>\n",
       "      <td>649000.0</td>\n",
       "      <td>RU-AL</td>\n",
       "      <td>UTC+7</td>\n",
       "      <td>RU.03</td>\n",
       "      <td>1506272</td>\n",
       "      <td>Altai</td>\n",
       "    </tr>\n",
       "    <tr>\n",
       "      <th>4</th>\n",
       "      <td>Дагестан</td>\n",
       "      <td>Респ</td>\n",
       "      <td>Респ Дагестан</td>\n",
       "      <td>Северо-Кавказский</td>\n",
       "      <td>500000000000</td>\n",
       "      <td>0bb7fa19-736d-49cf-ad0e-9774c4dae09b</td>\n",
       "      <td>82000000000</td>\n",
       "      <td>82000000</td>\n",
       "      <td>500</td>\n",
       "      <td>368000.0</td>\n",
       "      <td>RU-DA</td>\n",
       "      <td>UTC+3</td>\n",
       "      <td>RU.17</td>\n",
       "      <td>567293</td>\n",
       "      <td>Dagestan</td>\n",
       "    </tr>\n",
       "    <tr>\n",
       "      <th>...</th>\n",
       "      <td>...</td>\n",
       "      <td>...</td>\n",
       "      <td>...</td>\n",
       "      <td>...</td>\n",
       "      <td>...</td>\n",
       "      <td>...</td>\n",
       "      <td>...</td>\n",
       "      <td>...</td>\n",
       "      <td>...</td>\n",
       "      <td>...</td>\n",
       "      <td>...</td>\n",
       "      <td>...</td>\n",
       "      <td>...</td>\n",
       "      <td>...</td>\n",
       "      <td>...</td>\n",
       "    </tr>\n",
       "    <tr>\n",
       "      <th>81</th>\n",
       "      <td>Чукотский</td>\n",
       "      <td>АО</td>\n",
       "      <td>Чукотский АО</td>\n",
       "      <td>Дальневосточный</td>\n",
       "      <td>8700000000000</td>\n",
       "      <td>f136159b-404a-4f1f-8d8d-d169e1374d5c</td>\n",
       "      <td>77000000000</td>\n",
       "      <td>77000000</td>\n",
       "      <td>8700</td>\n",
       "      <td>NaN</td>\n",
       "      <td>RU-CHU</td>\n",
       "      <td>UTC+12</td>\n",
       "      <td>RU.15</td>\n",
       "      <td>2126099</td>\n",
       "      <td>Chukotka</td>\n",
       "    </tr>\n",
       "    <tr>\n",
       "      <th>82</th>\n",
       "      <td>Ямало-Ненецкий</td>\n",
       "      <td>АО</td>\n",
       "      <td>Ямало-Ненецкий АО</td>\n",
       "      <td>Уральский</td>\n",
       "      <td>8900000000000</td>\n",
       "      <td>826fa834-3ee8-404f-bdbc-13a5221cfb6e</td>\n",
       "      <td>71140000000</td>\n",
       "      <td>71900000</td>\n",
       "      <td>8900</td>\n",
       "      <td>629000.0</td>\n",
       "      <td>RU-YAN</td>\n",
       "      <td>UTC+5</td>\n",
       "      <td>RU.87</td>\n",
       "      <td>1486462</td>\n",
       "      <td>Yamalo-Nenets</td>\n",
       "    </tr>\n",
       "    <tr>\n",
       "      <th>83</th>\n",
       "      <td>Крым</td>\n",
       "      <td>Респ</td>\n",
       "      <td>Респ Крым</td>\n",
       "      <td>Южный</td>\n",
       "      <td>9100000000000</td>\n",
       "      <td>bd8e6511-e4b9-4841-90de-6bbc231a789e</td>\n",
       "      <td>35000000000</td>\n",
       "      <td>35000000</td>\n",
       "      <td>9100</td>\n",
       "      <td>NaN</td>\n",
       "      <td>UA-43</td>\n",
       "      <td>UTC+3</td>\n",
       "      <td>UA.11</td>\n",
       "      <td>703883</td>\n",
       "      <td>Crimea</td>\n",
       "    </tr>\n",
       "    <tr>\n",
       "      <th>84</th>\n",
       "      <td>Севастополь</td>\n",
       "      <td>г</td>\n",
       "      <td>г Севастополь</td>\n",
       "      <td>Южный</td>\n",
       "      <td>9200000000000</td>\n",
       "      <td>6fdecb78-893a-4e3f-a5ba-aa062459463b</td>\n",
       "      <td>67000000000</td>\n",
       "      <td>67000000</td>\n",
       "      <td>9200</td>\n",
       "      <td>299700.0</td>\n",
       "      <td>UA-40</td>\n",
       "      <td>UTC+3</td>\n",
       "      <td>UA.20</td>\n",
       "      <td>694422</td>\n",
       "      <td>Sevastopol City</td>\n",
       "    </tr>\n",
       "    <tr>\n",
       "      <th>85</th>\n",
       "      <td>Байконур</td>\n",
       "      <td>г</td>\n",
       "      <td>г Байконур</td>\n",
       "      <td>NaN</td>\n",
       "      <td>9900000000000</td>\n",
       "      <td>63ed1a35-4be6-4564-a1ec-0c51f7383314</td>\n",
       "      <td>55000000000</td>\n",
       "      <td>55000000</td>\n",
       "      <td>9900</td>\n",
       "      <td>468320.0</td>\n",
       "      <td>KZ-BAY</td>\n",
       "      <td>UTC+5</td>\n",
       "      <td>KZ.08</td>\n",
       "      <td>1538316</td>\n",
       "      <td>Baikonur</td>\n",
       "    </tr>\n",
       "  </tbody>\n",
       "</table>\n",
       "<p>86 rows × 15 columns</p>\n",
       "</div>"
      ],
      "text/plain": [
       "              name  type     name_with_type   federal_district       kladr_id  \\\n",
       "0           Адыгея  Респ        Респ Адыгея              Южный   100000000000   \n",
       "1     Башкортостан  Респ  Респ Башкортостан        Приволжский   200000000000   \n",
       "2          Бурятия  Респ       Респ Бурятия    Дальневосточный   300000000000   \n",
       "3            Алтай  Респ         Респ Алтай          Сибирский   400000000000   \n",
       "4         Дагестан  Респ      Респ Дагестан  Северо-Кавказский   500000000000   \n",
       "..             ...   ...                ...                ...            ...   \n",
       "81       Чукотский    АО       Чукотский АО    Дальневосточный  8700000000000   \n",
       "82  Ямало-Ненецкий    АО  Ямало-Ненецкий АО          Уральский  8900000000000   \n",
       "83            Крым  Респ          Респ Крым              Южный  9100000000000   \n",
       "84     Севастополь     г      г Севастополь              Южный  9200000000000   \n",
       "85        Байконур     г         г Байконур                NaN  9900000000000   \n",
       "\n",
       "                                 fias_id        okato     oktmo  tax_office  \\\n",
       "0   d8327a56-80de-4df2-815c-4f6ab1224c50  79000000000  79000000         100   \n",
       "1   6f2cbfd8-692a-4ee4-9b16-067210bde3fc  80000000000  80000000         200   \n",
       "2   a84ebed3-153d-4ba9-8532-8bdf879e1f5a  81000000000  81000000         300   \n",
       "3   5c48611f-5de6-4771-9695-7e36a4e7529d  84000000000  84000000         400   \n",
       "4   0bb7fa19-736d-49cf-ad0e-9774c4dae09b  82000000000  82000000         500   \n",
       "..                                   ...          ...       ...         ...   \n",
       "81  f136159b-404a-4f1f-8d8d-d169e1374d5c  77000000000  77000000        8700   \n",
       "82  826fa834-3ee8-404f-bdbc-13a5221cfb6e  71140000000  71900000        8900   \n",
       "83  bd8e6511-e4b9-4841-90de-6bbc231a789e  35000000000  35000000        9100   \n",
       "84  6fdecb78-893a-4e3f-a5ba-aa062459463b  67000000000  67000000        9200   \n",
       "85  63ed1a35-4be6-4564-a1ec-0c51f7383314  55000000000  55000000        9900   \n",
       "\n",
       "    postal_code iso_code timezone geoname_code  geoname_id  \\\n",
       "0      385000.0    RU-AD    UTC+3        RU.01      584222   \n",
       "1      452000.0    RU-BA    UTC+5        RU.08      578853   \n",
       "2      671000.0    RU-BU    UTC+8        RU.11     2050915   \n",
       "3      649000.0    RU-AL    UTC+7        RU.03     1506272   \n",
       "4      368000.0    RU-DA    UTC+3        RU.17      567293   \n",
       "..          ...      ...      ...          ...         ...   \n",
       "81          NaN   RU-CHU   UTC+12        RU.15     2126099   \n",
       "82     629000.0   RU-YAN    UTC+5        RU.87     1486462   \n",
       "83          NaN    UA-43    UTC+3        UA.11      703883   \n",
       "84     299700.0    UA-40    UTC+3        UA.20      694422   \n",
       "85     468320.0   KZ-BAY    UTC+5        KZ.08     1538316   \n",
       "\n",
       "              geoname_name  \n",
       "0         Adygeya Republic  \n",
       "1   Bashkortostan Republic  \n",
       "2       Buryatiya Republic  \n",
       "3                    Altai  \n",
       "4                 Dagestan  \n",
       "..                     ...  \n",
       "81                Chukotka  \n",
       "82           Yamalo-Nenets  \n",
       "83                  Crimea  \n",
       "84         Sevastopol City  \n",
       "85                Baikonur  \n",
       "\n",
       "[86 rows x 15 columns]"
      ]
     },
     "execution_count": 17,
     "metadata": {},
     "output_type": "execute_result"
    }
   ],
   "source": [
    "region_df=pd.read_csv(r'Data\\Raw\\region.csv')\n",
    "region_df"
   ]
  },
  {
   "cell_type": "code",
   "execution_count": 18,
   "id": "e21fcff3-7488-4b79-b7be-e497e8067f62",
   "metadata": {
    "tags": []
   },
   "outputs": [
    {
     "name": "stdout",
     "output_type": "stream",
     "text": [
      "<class 'pandas.core.frame.DataFrame'>\n",
      "RangeIndex: 86 entries, 0 to 85\n",
      "Data columns (total 15 columns):\n",
      " #   Column            Non-Null Count  Dtype  \n",
      "---  ------            --------------  -----  \n",
      " 0   name              86 non-null     object \n",
      " 1   type              86 non-null     object \n",
      " 2   name_with_type    86 non-null     object \n",
      " 3   federal_district  85 non-null     object \n",
      " 4   kladr_id          86 non-null     int64  \n",
      " 5   fias_id           86 non-null     object \n",
      " 6   okato             86 non-null     int64  \n",
      " 7   oktmo             86 non-null     int64  \n",
      " 8   tax_office        86 non-null     int64  \n",
      " 9   postal_code       26 non-null     float64\n",
      " 10  iso_code          86 non-null     object \n",
      " 11  timezone          86 non-null     object \n",
      " 12  geoname_code      86 non-null     object \n",
      " 13  geoname_id        86 non-null     int64  \n",
      " 14  geoname_name      86 non-null     object \n",
      "dtypes: float64(1), int64(5), object(9)\n",
      "memory usage: 10.2+ KB\n"
     ]
    }
   ],
   "source": [
    "region_df.info()"
   ]
  },
  {
   "cell_type": "markdown",
   "id": "d54530d5-cd43-4903-b9f4-89acc61edfdd",
   "metadata": {},
   "source": [
    "### Index synthesis"
   ]
  },
  {
   "cell_type": "code",
   "execution_count": 19,
   "id": "e427b0e1-e6d0-4345-a2df-f64482633243",
   "metadata": {
    "tags": []
   },
   "outputs": [
    {
     "data": {
      "text/html": [
       "<div>\n",
       "<style scoped>\n",
       "    .dataframe tbody tr th:only-of-type {\n",
       "        vertical-align: middle;\n",
       "    }\n",
       "\n",
       "    .dataframe tbody tr th {\n",
       "        vertical-align: top;\n",
       "    }\n",
       "\n",
       "    .dataframe thead th {\n",
       "        text-align: right;\n",
       "    }\n",
       "</style>\n",
       "<table border=\"1\" class=\"dataframe\">\n",
       "  <thead>\n",
       "    <tr style=\"text-align: right;\">\n",
       "      <th></th>\n",
       "      <th>name</th>\n",
       "      <th>geo_index</th>\n",
       "    </tr>\n",
       "  </thead>\n",
       "  <tbody>\n",
       "    <tr>\n",
       "      <th>0</th>\n",
       "      <td>Адыгея</td>\n",
       "      <td>3100</td>\n",
       "    </tr>\n",
       "    <tr>\n",
       "      <th>1</th>\n",
       "      <td>Башкортостан</td>\n",
       "      <td>5200</td>\n",
       "    </tr>\n",
       "    <tr>\n",
       "      <th>2</th>\n",
       "      <td>Бурятия</td>\n",
       "      <td>8300</td>\n",
       "    </tr>\n",
       "    <tr>\n",
       "      <th>3</th>\n",
       "      <td>Алтай</td>\n",
       "      <td>7400</td>\n",
       "    </tr>\n",
       "    <tr>\n",
       "      <th>4</th>\n",
       "      <td>Дагестан</td>\n",
       "      <td>3500</td>\n",
       "    </tr>\n",
       "    <tr>\n",
       "      <th>...</th>\n",
       "      <td>...</td>\n",
       "      <td>...</td>\n",
       "    </tr>\n",
       "    <tr>\n",
       "      <th>78</th>\n",
       "      <td>Еврейская</td>\n",
       "      <td>107900</td>\n",
       "    </tr>\n",
       "    <tr>\n",
       "      <th>79</th>\n",
       "      <td>Ненецкий</td>\n",
       "      <td>32983</td>\n",
       "    </tr>\n",
       "    <tr>\n",
       "      <th>80</th>\n",
       "      <td>Ханты-Мансийский Автономный округ - Югра</td>\n",
       "      <td>58600</td>\n",
       "    </tr>\n",
       "    <tr>\n",
       "      <th>81</th>\n",
       "      <td>Чукотский</td>\n",
       "      <td>128700</td>\n",
       "    </tr>\n",
       "    <tr>\n",
       "      <th>82</th>\n",
       "      <td>Ямало-Ненецкий</td>\n",
       "      <td>58900</td>\n",
       "    </tr>\n",
       "  </tbody>\n",
       "</table>\n",
       "<p>83 rows × 2 columns</p>\n",
       "</div>"
      ],
      "text/plain": [
       "                                        name  geo_index\n",
       "0                                     Адыгея       3100\n",
       "1                               Башкортостан       5200\n",
       "2                                    Бурятия       8300\n",
       "3                                      Алтай       7400\n",
       "4                                   Дагестан       3500\n",
       "..                                       ...        ...\n",
       "78                                 Еврейская     107900\n",
       "79                                  Ненецкий      32983\n",
       "80  Ханты-Мансийский Автономный округ - Югра      58600\n",
       "81                                 Чукотский     128700\n",
       "82                            Ямало-Ненецкий      58900\n",
       "\n",
       "[83 rows x 2 columns]"
      ]
     },
     "execution_count": 19,
     "metadata": {},
     "output_type": "execute_result"
    }
   ],
   "source": [
    "region_df['iso_code']=region_df.iso_code.apply(lambda x: x[:2])\n",
    "region_df=region_df.query('iso_code==\"RU\"').copy()\n",
    "region_df.loc[:, 'geo_index']=list(region_df.tax_office.apply(lambda x: str(x)))\n",
    "region_df.loc[:, 'timezone']=region_df.timezone.apply(lambda x: x[4:])\n",
    "region_df.loc[:, 'geo_index']=region_df.timezone+region_df.geo_index\n",
    "region_df=region_df.astype({\"geo_index\": 'int64'})\n",
    "region_df=region_df[['name','geo_index']].copy()\n",
    "region_df.reset_index(inplace=True, drop=True)\n",
    "region_df"
   ]
  },
  {
   "cell_type": "code",
   "execution_count": 20,
   "id": "56078ad1-d8c6-475e-a470-017531b482c6",
   "metadata": {
    "tags": []
   },
   "outputs": [
    {
     "data": {
      "text/html": [
       "<div>\n",
       "<style scoped>\n",
       "    .dataframe tbody tr th:only-of-type {\n",
       "        vertical-align: middle;\n",
       "    }\n",
       "\n",
       "    .dataframe tbody tr th {\n",
       "        vertical-align: top;\n",
       "    }\n",
       "\n",
       "    .dataframe thead th {\n",
       "        text-align: right;\n",
       "    }\n",
       "</style>\n",
       "<table border=\"1\" class=\"dataframe\">\n",
       "  <thead>\n",
       "    <tr style=\"text-align: right;\">\n",
       "      <th></th>\n",
       "      <th>name</th>\n",
       "      <th>geo_index</th>\n",
       "    </tr>\n",
       "  </thead>\n",
       "  <tbody>\n",
       "    <tr>\n",
       "      <th>0</th>\n",
       "      <td>Адыгея</td>\n",
       "      <td>3100</td>\n",
       "    </tr>\n",
       "    <tr>\n",
       "      <th>1</th>\n",
       "      <td>Дагестан</td>\n",
       "      <td>3500</td>\n",
       "    </tr>\n",
       "    <tr>\n",
       "      <th>2</th>\n",
       "      <td>Ингушетия</td>\n",
       "      <td>3600</td>\n",
       "    </tr>\n",
       "    <tr>\n",
       "      <th>3</th>\n",
       "      <td>Кабардино-Балкарская</td>\n",
       "      <td>3700</td>\n",
       "    </tr>\n",
       "    <tr>\n",
       "      <th>4</th>\n",
       "      <td>Калмыкия</td>\n",
       "      <td>3800</td>\n",
       "    </tr>\n",
       "    <tr>\n",
       "      <th>...</th>\n",
       "      <td>...</td>\n",
       "      <td>...</td>\n",
       "    </tr>\n",
       "    <tr>\n",
       "      <th>78</th>\n",
       "      <td>Еврейская</td>\n",
       "      <td>107900</td>\n",
       "    </tr>\n",
       "    <tr>\n",
       "      <th>79</th>\n",
       "      <td>Магаданская</td>\n",
       "      <td>114900</td>\n",
       "    </tr>\n",
       "    <tr>\n",
       "      <th>80</th>\n",
       "      <td>Сахалинская</td>\n",
       "      <td>116500</td>\n",
       "    </tr>\n",
       "    <tr>\n",
       "      <th>81</th>\n",
       "      <td>Камчатский</td>\n",
       "      <td>124100</td>\n",
       "    </tr>\n",
       "    <tr>\n",
       "      <th>82</th>\n",
       "      <td>Чукотский</td>\n",
       "      <td>128700</td>\n",
       "    </tr>\n",
       "  </tbody>\n",
       "</table>\n",
       "<p>83 rows × 2 columns</p>\n",
       "</div>"
      ],
      "text/plain": [
       "                    name  geo_index\n",
       "0                 Адыгея       3100\n",
       "1               Дагестан       3500\n",
       "2              Ингушетия       3600\n",
       "3   Кабардино-Балкарская       3700\n",
       "4               Калмыкия       3800\n",
       "..                   ...        ...\n",
       "78             Еврейская     107900\n",
       "79           Магаданская     114900\n",
       "80           Сахалинская     116500\n",
       "81            Камчатский     124100\n",
       "82             Чукотский     128700\n",
       "\n",
       "[83 rows x 2 columns]"
      ]
     },
     "execution_count": 20,
     "metadata": {},
     "output_type": "execute_result"
    }
   ],
   "source": [
    "region_df.sort_values(by=['geo_index'], inplace=True)\n",
    "region_df.reset_index(inplace=True, drop=True)\n",
    "region_df"
   ]
  },
  {
   "cell_type": "code",
   "execution_count": 21,
   "id": "c907c030-f77d-407a-b6f0-16a3c6682b13",
   "metadata": {
    "tags": []
   },
   "outputs": [],
   "source": [
    "region_df.to_csv(r'Data\\Preprocessed\\region.csv')"
   ]
  },
  {
   "cell_type": "markdown",
   "id": "ed5c95b3-4f78-49e7-a246-b279838e3599",
   "metadata": {},
   "source": [
    "Ни один из индексов датасета не подходил для поставленной задачи. Для решения задачи был синтезирован обобщённый индекс, первая цифра каждого числа которого представляет собой временную зону UTC, а остальные индекс налогового офиса, из колонки \"tax_office\"."
   ]
  },
  {
   "cell_type": "markdown",
   "id": "e4577597-1158-4c1f-8507-459ac38dadee",
   "metadata": {},
   "source": [
    "### Replace index"
   ]
  },
  {
   "cell_type": "code",
   "execution_count": 22,
   "id": "578afca9-4e13-45da-9935-c13ae3cba5cc",
   "metadata": {
    "tags": []
   },
   "outputs": [],
   "source": [
    "train_df['living_region']=train_df.living_region.apply(lambda x: re.sub(\" +\", \" \", re.sub(r'[^\\w\\s]', ' ', x)))\n",
    "train_df['living_region']=train_df['living_region'].str.lower()"
   ]
  },
  {
   "cell_type": "code",
   "execution_count": 23,
   "id": "e5a42dda-9261-4ea0-807f-ebe64e1fea25",
   "metadata": {
    "tags": []
   },
   "outputs": [],
   "source": [
    "region_df['name']=region_df.name.apply(lambda x: re.sub(\" +\", \" \", re.sub(r'[^\\w\\s]', ' ', x)))\n",
    "region_df['name']=region_df.name.apply(lambda x: x.split(\" \")[0])\n",
    "region_df['name']=region_df['name'].str.lower()"
   ]
  },
  {
   "cell_type": "code",
   "execution_count": 24,
   "id": "3a7f7729-b789-461a-8408-8e08563abd90",
   "metadata": {
    "tags": []
   },
   "outputs": [],
   "source": [
    "region_dict=dict()\n",
    "for name, ind in zip(region_df.name, region_df.geo_index):\n",
    "    region_dict[name]=ind"
   ]
  },
  {
   "cell_type": "code",
   "execution_count": 25,
   "id": "75024bcb-3b8c-46b2-8c16-1fb7663889d6",
   "metadata": {
    "tags": []
   },
   "outputs": [],
   "source": [
    "train_df['living_region'].replace(regex=region_dict, inplace=True)"
   ]
  },
  {
   "cell_type": "code",
   "execution_count": 26,
   "id": "b86d7238-e9bc-46d9-8ca5-fbfb85d142da",
   "metadata": {
    "tags": []
   },
   "outputs": [
    {
     "data": {
      "text/plain": [
       "living_region\n",
       "114900                           150\n",
       "3500                              65\n",
       "пермская обл                      49\n",
       "сев осетия алания                 47\n",
       "128700                            28\n",
       "32000                             24\n",
       "горьковская обл                   19\n",
       "3600                              17\n",
       "читинская обл                     17\n",
       "камчатская область                 3\n",
       "россия                             2\n",
       "приволжский федеральный округ      1\n",
       "98                                 1\n",
       "мытищинский р н                    1\n",
       "москвоская обл                     1\n",
       "эвенкийский ао                     1\n",
       "гусь хрустальный р н               1\n",
       "брянский                           1\n",
       "орёл                               1\n",
       "74                                 1\n",
       "Name: count, dtype: int64"
      ]
     },
     "execution_count": 26,
     "metadata": {},
     "output_type": "execute_result"
    }
   ],
   "source": [
    "train_df['living_region'].value_counts()[-20:]"
   ]
  },
  {
   "cell_type": "markdown",
   "id": "03d65038-74c4-400e-89eb-5265d129e699",
   "metadata": {},
   "source": [
    "Некоторые не заменённые значения можно интерпретировать и заполнить вручную."
   ]
  },
  {
   "cell_type": "code",
   "execution_count": 27,
   "id": "cf1ef694-e201-42ed-8fad-3cef46a7c208",
   "metadata": {
    "tags": []
   },
   "outputs": [],
   "source": [
    "unidentified_regions_dict={'брянский': 33200, 'горьковская обл': 35200, 'гусь хрустальный р н': 33300, 'камчатская область': 124100, \n",
    "                           'москвоская обл': 35000, 'мытищинский р н': 35000, 'орёл': 35700, 'пермская обл': 55900, 'сев осетия алания': 31500, \n",
    "                           'читинская обл': 8300, 'эвенкийский ао': 72400}"
   ]
  },
  {
   "cell_type": "code",
   "execution_count": 28,
   "id": "d6cdecd7-c543-4257-95f2-4486a7980a4a",
   "metadata": {
    "tags": []
   },
   "outputs": [],
   "source": [
    "train_df['living_region'].replace(regex=unidentified_regions_dict, inplace=True)"
   ]
  },
  {
   "cell_type": "code",
   "execution_count": 29,
   "id": "8f46090a-20c6-4a4a-9d1d-7312b4a6676b",
   "metadata": {
    "tags": []
   },
   "outputs": [
    {
     "data": {
      "text/plain": [
       "living_region\n",
       "7400                             577\n",
       "3900                             562\n",
       "36000                            540\n",
       "71700                            537\n",
       "3100                             526\n",
       "34400                            481\n",
       "71900                            453\n",
       "124100                           395\n",
       "31500                            366\n",
       "3800                             292\n",
       "107900                           193\n",
       "114900                           150\n",
       "3500                              65\n",
       "128700                            28\n",
       "32000                             24\n",
       "3600                              17\n",
       "россия                             2\n",
       "приволжский федеральный округ      1\n",
       "98                                 1\n",
       "74                                 1\n",
       "Name: count, dtype: int64"
      ]
     },
     "execution_count": 29,
     "metadata": {},
     "output_type": "execute_result"
    }
   ],
   "source": [
    "train_df['living_region'].value_counts()[-20:]"
   ]
  },
  {
   "cell_type": "markdown",
   "id": "fc567593-a937-4a55-ac89-83ce3b278564",
   "metadata": {},
   "source": [
    "Неинтерпретируемые значения подлежат удалению."
   ]
  },
  {
   "cell_type": "code",
   "execution_count": 30,
   "id": "074dadc0-0767-4543-98f7-b1c9bbab6423",
   "metadata": {
    "tags": []
   },
   "outputs": [],
   "source": [
    "drop_list=['74', '98', 'приволжский федеральный округ', 'россия']"
   ]
  },
  {
   "cell_type": "code",
   "execution_count": 31,
   "id": "947dcd93-0785-4456-a325-61df0481f91f",
   "metadata": {
    "tags": []
   },
   "outputs": [],
   "source": [
    "train_df=train_df[~train_df['living_region'].isin(drop_list)]\n",
    "train_df.reset_index(inplace=True, drop=True)"
   ]
  },
  {
   "cell_type": "code",
   "execution_count": 33,
   "id": "f549ee55-cc6c-4da9-bcf2-dc4b58d15c1c",
   "metadata": {
    "tags": []
   },
   "outputs": [
    {
     "data": {
      "text/html": [
       "<div>\n",
       "<style scoped>\n",
       "    .dataframe tbody tr th:only-of-type {\n",
       "        vertical-align: middle;\n",
       "    }\n",
       "\n",
       "    .dataframe tbody tr th {\n",
       "        vertical-align: top;\n",
       "    }\n",
       "\n",
       "    .dataframe thead th {\n",
       "        text-align: right;\n",
       "    }\n",
       "</style>\n",
       "<table border=\"1\" class=\"dataframe\">\n",
       "  <thead>\n",
       "    <tr style=\"text-align: right;\">\n",
       "      <th></th>\n",
       "      <th>client_id</th>\n",
       "      <th>gender</th>\n",
       "      <th>age</th>\n",
       "      <th>marital_status</th>\n",
       "      <th>job_position</th>\n",
       "      <th>credit_sum</th>\n",
       "      <th>credit_month</th>\n",
       "      <th>tariff_id</th>\n",
       "      <th>score_shk</th>\n",
       "      <th>education</th>\n",
       "      <th>living_region</th>\n",
       "      <th>monthly_income</th>\n",
       "      <th>credit_count</th>\n",
       "      <th>overdue_credit_count</th>\n",
       "      <th>open_account_flg</th>\n",
       "    </tr>\n",
       "  </thead>\n",
       "  <tbody>\n",
       "    <tr>\n",
       "      <th>0</th>\n",
       "      <td>1</td>\n",
       "      <td>M</td>\n",
       "      <td>48</td>\n",
       "      <td>MAR</td>\n",
       "      <td>UMN</td>\n",
       "      <td>59998.00</td>\n",
       "      <td>10</td>\n",
       "      <td>1.60</td>\n",
       "      <td>0.770249</td>\n",
       "      <td>GRD</td>\n",
       "      <td>32300</td>\n",
       "      <td>30000.0</td>\n",
       "      <td>1.0</td>\n",
       "      <td>1.0</td>\n",
       "      <td>0</td>\n",
       "    </tr>\n",
       "    <tr>\n",
       "      <th>1</th>\n",
       "      <td>2</td>\n",
       "      <td>F</td>\n",
       "      <td>28</td>\n",
       "      <td>MAR</td>\n",
       "      <td>UMN</td>\n",
       "      <td>10889.00</td>\n",
       "      <td>6</td>\n",
       "      <td>1.10</td>\n",
       "      <td>0.248514</td>\n",
       "      <td>GRD</td>\n",
       "      <td>37700</td>\n",
       "      <td>43000.0</td>\n",
       "      <td>2.0</td>\n",
       "      <td>0.0</td>\n",
       "      <td>0</td>\n",
       "    </tr>\n",
       "    <tr>\n",
       "      <th>2</th>\n",
       "      <td>3</td>\n",
       "      <td>M</td>\n",
       "      <td>32</td>\n",
       "      <td>MAR</td>\n",
       "      <td>SPC</td>\n",
       "      <td>10728.00</td>\n",
       "      <td>12</td>\n",
       "      <td>1.10</td>\n",
       "      <td>0.459589</td>\n",
       "      <td>SCH</td>\n",
       "      <td>46400</td>\n",
       "      <td>23000.0</td>\n",
       "      <td>5.0</td>\n",
       "      <td>0.0</td>\n",
       "      <td>0</td>\n",
       "    </tr>\n",
       "    <tr>\n",
       "      <th>3</th>\n",
       "      <td>4</td>\n",
       "      <td>F</td>\n",
       "      <td>27</td>\n",
       "      <td>DIV</td>\n",
       "      <td>SPC</td>\n",
       "      <td>12009.09</td>\n",
       "      <td>12</td>\n",
       "      <td>1.10</td>\n",
       "      <td>0.362536</td>\n",
       "      <td>GRD</td>\n",
       "      <td>33400</td>\n",
       "      <td>17000.0</td>\n",
       "      <td>2.0</td>\n",
       "      <td>0.0</td>\n",
       "      <td>0</td>\n",
       "    </tr>\n",
       "    <tr>\n",
       "      <th>4</th>\n",
       "      <td>5</td>\n",
       "      <td>M</td>\n",
       "      <td>45</td>\n",
       "      <td>MAR</td>\n",
       "      <td>SPC</td>\n",
       "      <td>16908.89</td>\n",
       "      <td>10</td>\n",
       "      <td>1.10</td>\n",
       "      <td>0.421385</td>\n",
       "      <td>SCH</td>\n",
       "      <td>57400</td>\n",
       "      <td>25000.0</td>\n",
       "      <td>1.0</td>\n",
       "      <td>0.0</td>\n",
       "      <td>0</td>\n",
       "    </tr>\n",
       "    <tr>\n",
       "      <th>...</th>\n",
       "      <td>...</td>\n",
       "      <td>...</td>\n",
       "      <td>...</td>\n",
       "      <td>...</td>\n",
       "      <td>...</td>\n",
       "      <td>...</td>\n",
       "      <td>...</td>\n",
       "      <td>...</td>\n",
       "      <td>...</td>\n",
       "      <td>...</td>\n",
       "      <td>...</td>\n",
       "      <td>...</td>\n",
       "      <td>...</td>\n",
       "      <td>...</td>\n",
       "      <td>...</td>\n",
       "    </tr>\n",
       "    <tr>\n",
       "      <th>161331</th>\n",
       "      <td>170742</td>\n",
       "      <td>F</td>\n",
       "      <td>27</td>\n",
       "      <td>UNM</td>\n",
       "      <td>SPC</td>\n",
       "      <td>64867.00</td>\n",
       "      <td>12</td>\n",
       "      <td>1.10</td>\n",
       "      <td>0.535257</td>\n",
       "      <td>GRD</td>\n",
       "      <td>31600</td>\n",
       "      <td>40000.0</td>\n",
       "      <td>6.0</td>\n",
       "      <td>0.0</td>\n",
       "      <td>0</td>\n",
       "    </tr>\n",
       "    <tr>\n",
       "      <th>161332</th>\n",
       "      <td>170743</td>\n",
       "      <td>F</td>\n",
       "      <td>24</td>\n",
       "      <td>MAR</td>\n",
       "      <td>SPC</td>\n",
       "      <td>17640.00</td>\n",
       "      <td>6</td>\n",
       "      <td>1.60</td>\n",
       "      <td>0.573287</td>\n",
       "      <td>SCH</td>\n",
       "      <td>37800</td>\n",
       "      <td>30000.0</td>\n",
       "      <td>1.0</td>\n",
       "      <td>0.0</td>\n",
       "      <td>0</td>\n",
       "    </tr>\n",
       "    <tr>\n",
       "      <th>161333</th>\n",
       "      <td>170744</td>\n",
       "      <td>F</td>\n",
       "      <td>31</td>\n",
       "      <td>UNM</td>\n",
       "      <td>SPC</td>\n",
       "      <td>27556.47</td>\n",
       "      <td>10</td>\n",
       "      <td>1.32</td>\n",
       "      <td>0.416098</td>\n",
       "      <td>GRD</td>\n",
       "      <td>102500</td>\n",
       "      <td>40000.0</td>\n",
       "      <td>1.0</td>\n",
       "      <td>0.0</td>\n",
       "      <td>0</td>\n",
       "    </tr>\n",
       "    <tr>\n",
       "      <th>161334</th>\n",
       "      <td>170745</td>\n",
       "      <td>F</td>\n",
       "      <td>53</td>\n",
       "      <td>DIV</td>\n",
       "      <td>PNA</td>\n",
       "      <td>6189.00</td>\n",
       "      <td>12</td>\n",
       "      <td>1.10</td>\n",
       "      <td>0.482595</td>\n",
       "      <td>SCH</td>\n",
       "      <td>35800</td>\n",
       "      <td>31000.0</td>\n",
       "      <td>2.0</td>\n",
       "      <td>0.0</td>\n",
       "      <td>0</td>\n",
       "    </tr>\n",
       "    <tr>\n",
       "      <th>161335</th>\n",
       "      <td>170746</td>\n",
       "      <td>M</td>\n",
       "      <td>49</td>\n",
       "      <td>MAR</td>\n",
       "      <td>SPC</td>\n",
       "      <td>12787.00</td>\n",
       "      <td>10</td>\n",
       "      <td>1.10</td>\n",
       "      <td>0.316087</td>\n",
       "      <td>GRD</td>\n",
       "      <td>35000</td>\n",
       "      <td>40000.0</td>\n",
       "      <td>3.0</td>\n",
       "      <td>0.0</td>\n",
       "      <td>0</td>\n",
       "    </tr>\n",
       "  </tbody>\n",
       "</table>\n",
       "<p>161336 rows × 15 columns</p>\n",
       "</div>"
      ],
      "text/plain": [
       "        client_id gender age marital_status job_position  credit_sum  \\\n",
       "0               1      M  48            MAR          UMN    59998.00   \n",
       "1               2      F  28            MAR          UMN    10889.00   \n",
       "2               3      M  32            MAR          SPC    10728.00   \n",
       "3               4      F  27            DIV          SPC    12009.09   \n",
       "4               5      M  45            MAR          SPC    16908.89   \n",
       "...           ...    ...  ..            ...          ...         ...   \n",
       "161331     170742      F  27            UNM          SPC    64867.00   \n",
       "161332     170743      F  24            MAR          SPC    17640.00   \n",
       "161333     170744      F  31            UNM          SPC    27556.47   \n",
       "161334     170745      F  53            DIV          PNA     6189.00   \n",
       "161335     170746      M  49            MAR          SPC    12787.00   \n",
       "\n",
       "       credit_month tariff_id  score_shk education living_region  \\\n",
       "0                10      1.60   0.770249       GRD         32300   \n",
       "1                 6      1.10   0.248514       GRD         37700   \n",
       "2                12      1.10   0.459589       SCH         46400   \n",
       "3                12      1.10   0.362536       GRD         33400   \n",
       "4                10      1.10   0.421385       SCH         57400   \n",
       "...             ...       ...        ...       ...           ...   \n",
       "161331           12      1.10   0.535257       GRD         31600   \n",
       "161332            6      1.60   0.573287       SCH         37800   \n",
       "161333           10      1.32   0.416098       GRD        102500   \n",
       "161334           12      1.10   0.482595       SCH         35800   \n",
       "161335           10      1.10   0.316087       GRD         35000   \n",
       "\n",
       "        monthly_income credit_count overdue_credit_count open_account_flg  \n",
       "0              30000.0          1.0                  1.0                0  \n",
       "1              43000.0          2.0                  0.0                0  \n",
       "2              23000.0          5.0                  0.0                0  \n",
       "3              17000.0          2.0                  0.0                0  \n",
       "4              25000.0          1.0                  0.0                0  \n",
       "...                ...          ...                  ...              ...  \n",
       "161331         40000.0          6.0                  0.0                0  \n",
       "161332         30000.0          1.0                  0.0                0  \n",
       "161333         40000.0          1.0                  0.0                0  \n",
       "161334         31000.0          2.0                  0.0                0  \n",
       "161335         40000.0          3.0                  0.0                0  \n",
       "\n",
       "[161336 rows x 15 columns]"
      ]
     },
     "execution_count": 33,
     "metadata": {},
     "output_type": "execute_result"
    }
   ],
   "source": [
    "train_df"
   ]
  },
  {
   "cell_type": "code",
   "execution_count": 37,
   "id": "4e9b1dbe-1915-4841-8e59-da5fbfa0a1f7",
   "metadata": {
    "tags": []
   },
   "outputs": [],
   "source": [
    "test_df['living_region']=test_df.living_region.apply(lambda x: re.sub(\" +\", \" \", re.sub(r'[^\\w\\s]', ' ', x)))\n",
    "test_df['living_region']=test_df['living_region'].str.lower()\n",
    "test_df['living_region'].replace(regex=region_dict, inplace=True)\n",
    "test_df['living_region'].replace(regex=unidentified_regions_dict, inplace=True)\n",
    "test_df=test_df[~test_df['living_region'].isin(drop_list)]\n",
    "test_df.reset_index(inplace=True, drop=True)"
   ]
  },
  {
   "cell_type": "code",
   "execution_count": 38,
   "id": "801bc5b9-754f-4657-9878-ff1dd4433cdf",
   "metadata": {
    "tags": []
   },
   "outputs": [
    {
     "data": {
      "text/plain": [
       "living_region\n",
       "3700               338\n",
       "33100              336\n",
       "3900               334\n",
       "71700              302\n",
       "3100               299\n",
       "36000              295\n",
       "71900              266\n",
       "34400              252\n",
       "124100             211\n",
       "31500              188\n",
       "3800               144\n",
       "107900             114\n",
       "114900              78\n",
       "3500                31\n",
       "128700              26\n",
       "32000               22\n",
       "3600                 6\n",
       "г челябинск          1\n",
       "московский п         1\n",
       "камчатс ий край      1\n",
       "Name: count, dtype: int64"
      ]
     },
     "execution_count": 38,
     "metadata": {},
     "output_type": "execute_result"
    }
   ],
   "source": [
    "test_df['living_region'].value_counts()[-20:]"
   ]
  },
  {
   "cell_type": "code",
   "execution_count": 45,
   "id": "19e36f9c-df7f-476d-8eb9-3ae848e4dd81",
   "metadata": {
    "tags": []
   },
   "outputs": [],
   "source": [
    "train_df['living_region'].replace(regex={\"г челябинск\": 57400, \"камчатс ий край\": 124100}, inplace=True)"
   ]
  },
  {
   "cell_type": "code",
   "execution_count": 46,
   "id": "dd2de204-1ad3-469d-ae5d-c0de9508a889",
   "metadata": {
    "tags": []
   },
   "outputs": [],
   "source": [
    "test_df=test_df[~test_df['living_region'].isin(['московский п'])]\n",
    "test_df.reset_index(inplace=True, drop=True)"
   ]
  },
  {
   "cell_type": "code",
   "execution_count": 47,
   "id": "9b1ca877-6d52-4678-a875-c9a79dd179a6",
   "metadata": {
    "tags": []
   },
   "outputs": [],
   "source": [
    "train_df.to_csv(r'Data\\Preprocessed\\credit_train.csv')\n",
    "test_df.to_csv(r'Data\\Preprocessed\\credit_test.csv')"
   ]
  }
 ],
 "metadata": {
  "kernelspec": {
   "display_name": "Python 3 (ipykernel)",
   "language": "python",
   "name": "python3"
  },
  "language_info": {
   "codemirror_mode": {
    "name": "ipython",
    "version": 3
   },
   "file_extension": ".py",
   "mimetype": "text/x-python",
   "name": "python",
   "nbconvert_exporter": "python",
   "pygments_lexer": "ipython3",
   "version": "3.10.13"
  }
 },
 "nbformat": 4,
 "nbformat_minor": 5
}
